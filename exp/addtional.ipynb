{
 "cells": [
  {
   "cell_type": "code",
   "execution_count": 19,
   "metadata": {},
   "outputs": [],
   "source": [
    "from textblob import TextBlob\n",
    "import json\n",
    "import numpy as np\n",
    "import time\n",
    "import itertools\n",
    "import re\n",
    "import string\n",
    "'''\n",
    "def load_data(n: int) -> list:\n",
    "    data = []\n",
    "    with open(\"gg2020.json\") as file:\n",
    "        for line in file.readlines():\n",
    "            data.append(json.loads(line[:-1])[\"text\"])\n",
    "            if len(data) > n: break\n",
    "\n",
    "    return data\n",
    "'''\n",
    "\n",
    "def load_data(year):\n",
    "    if year == \"2013\" or year == \"2015\"or year == \"2018\"or year == \"2019\":\n",
    "        f = open('gg'+year+'.json')\n",
    "        data = json.load(f)\n",
    "        TWEETS = [tweet['text'] for tweet in data]\n",
    "        #return TWEETS\n",
    "    else:                                              \n",
    "        with open('gg'+year+'.json', encoding='utf8') as json_file:\n",
    "            data = [json.loads(line) for line in json_file]\n",
    "        TWEETS = [tweet['text'] for tweet in data]\n",
    "            #return TWEETS\n",
    "    TWEETS.sort()\n",
    "    TWEETS = list(TWEETS for TWEETS,_ in itertools.groupby(TWEETS))\n",
    "    return TWEETS\n",
    "        \n",
    "        \n",
    "\n",
    "def sentiment(sentences: list) -> tuple:\n",
    "    '''Can be used on entity's sentiment and red carpet, Humor (find the word dress/joke first)\n",
    "       best dressed (++), worst dressed (-+), most discussed(.-), most controversial(--),'''\n",
    "    polarity, subjectivity = 0, 0\n",
    "    for sentence in sentences:\n",
    "        tb = TextBlob(sentence.replace(\"\\n\", \"\"))\n",
    "        polarity += tb.sentiment.polarity\n",
    "        subjectivity += tb.sentiment.subjectivity\n",
    "    \n",
    "    polarity, subjectivity = polarity/len(sentences), subjectivity/len(sentences)\n",
    "\n",
    "    return polarity, subjectivity\n",
    "\n",
    "def find_keyword(sentences: list, keyword: str) -> list:\n",
    "    '''keyword should be in lower case'''\n",
    "    data = []\n",
    "    for sentence in sentences:\n",
    "        tb = TextBlob(sentence)\n",
    "        if keyword in tb.lower(): data.append(sentence)\n",
    "    \n",
    "    return data\n",
    "\n",
    "def additional(entities: list, typ: str, data: list):\n",
    "    if typ not in [\"dress\", \"joke\", \"sentiment\", \"parties\", \"act\"]: raise Exception\n",
    "\n",
    "    P, S = [], []\n",
    "\n",
    "    for entity in entities:\n",
    "        _data = find_keyword(data, entity)\n",
    "\n",
    "        if typ in [\"dress\", \"joke\", \"act\"]: __data = find_keyword(_data, typ)\n",
    "        elif typ in [\"parties\"]:\n",
    "            # Find other actor\n",
    "            pass\n",
    "        \n",
    "        if not len(__data):\n",
    "            P.append(0)\n",
    "            S.append(0.5)\n",
    "            continue\n",
    "        \n",
    "        p, s = sentiment(__data)\n",
    "        P.append(p)\n",
    "        S.append(s)\n",
    "\n",
    "    P, S = np.array(P), np.array(S)\n",
    "    \n",
    "    if typ == \"dress\":\n",
    "        print(\"best dressed\", entities[np.argmin(np.power(P-1, 2) + np.power(S-1, 2))])\n",
    "        print(\"worst dressed\", entities[np.argmin(np.power(P+1, 2) + np.power(S-1, 2))])\n",
    "        print(\"most discussed\", entities[np.argmin(S)])\n",
    "        print(\"most controversial\", entities[np.argmin(np.power(P+1, 2) + np.power(S, 2))])\n",
    "\n",
    "    elif typ == \"joke\":\n",
    "        pass\n",
    "\n"
   ]
  },
  {
   "cell_type": "code",
   "execution_count": 91,
   "metadata": {},
   "outputs": [
    {
     "name": "stdout",
     "output_type": "stream",
     "text": [
      "65\n"
     ]
    }
   ],
   "source": [
    "def find_party(tweet):\n",
    "    ss = dict()\n",
    "    party_pattern = re.compile(r'at [a-zA-Z\\s]+(?=\\sparty)')\n",
    "    for item in tweet:\n",
    "        pp = re.findall(party_pattern, item)\n",
    "        for party in pp:\n",
    "            if party[3:] not in ss:\n",
    "                ss[party[3:]] = 1\n",
    "            else:\n",
    "                ss[party[3:]] += 1\n",
    "    \n",
    "    ordered_p_tweet = sorted(ss.items(), key=lambda x: x[1], reverse=True)\n",
    "    stop_party = ['after', 'window']\n",
    "    clean_p_tweet = []\n",
    "    for item in ordered_p_tweet:\n",
    "        flag = True\n",
    "        for word in stop_party:\n",
    "            if word in item[0].lower().split():\n",
    "                flag = False\n",
    "                break\n",
    "        if flag:\n",
    "            clean_p_tweet.append(item)\n",
    "                \n",
    "    nonsense = ['a', 'the', 'an', 'his', 'her', 'their', 'my', 'a golden globe', 'the golden globes','our golden globes', 'golden globe', 'golden globes', 'your golden globes']\n",
    "    _clean_p_tweet = []\n",
    "    for item in clean_p_tweet:\n",
    "        flag = True\n",
    "        for w in nonsense:\n",
    "            if w == item[0].lower():\n",
    "                flag = False\n",
    "                break\n",
    "        if flag:\n",
    "            _clean_p_tweet.append(item)\n",
    "        \n",
    "    \n",
    "    return _clean_p_tweet\n",
    "\n",
    "data = load_data(\"2020\")\n",
    "#clean_data(data)\n",
    "p_tweet = find_party(data)\n",
    "print (len(p_tweet))"
   ]
  },
  {
   "cell_type": "code",
   "execution_count": 92,
   "metadata": {},
   "outputs": [
    {
     "name": "stdout",
     "output_type": "stream",
     "text": [
      "[('the YSL pre Golden Globes', 6), ('the pre Golden Globes', 4), ('a Netflix Golden Globes', 4), ('the same', 2), ('the InStyle Golden Globes', 2), ('Audrina Patridge stepped out in and more', 2), ('Screen Slate Golden Globe viewing', 1), ('a Hollywood', 1), ('the YSL Golden Globe', 1), ('walks into the', 1), ('a golden globe watch', 1), ('the Democrat', 1), ('the golden globes or at a golden globes', 1), ('for the beach', 1), ('the next Golden Globe', 1), ('this Golden Globes', 1), ('a golden globes pre', 1), ('a Golden Globes viewing', 1), ('the Golden Globes is dressed like someone at a', 1), ('our Golden Globes watch', 1), ('the wmag', 1), ('HBO', 1), ('brain is throwing a', 1), ('the wme Golden Globes', 1), ('time at the HBO Golden Globes', 1), ('lionsgate Golden Globes', 1), ('their respective football', 1), ('this Golden Globes viewing', 1), ('all these people wearing velvet', 1), ('a Golden Globes watch', 1), ('BAFTA', 1), ('the Golden Globes watch', 1), ('this family', 1), ('a golden globes watch', 1), ('a sober Golden Globes', 1), ('the Amazon', 1), ('the Netflix', 1), ('benefit from the sacrifice of our troops are throwing themselves a', 1), ('the W Magazine Golden Globes pre', 1), ('a belated Home Depot holiday', 1), ('this golden globes', 1), ('a baptism', 1), ('the In Style viewing', 1), ('a Golden Globes', 1), ('stars wore to', 1), ('your viewing', 1), ('the Golden Globe nominees', 1), ('the golden globes pre', 1), ('the pre golden globes', 1), ('a birthday', 1), ('the Gold Meets Golden', 1), ('the viewing', 1), ('four seasons for the golden globes', 1), ('the W magazine best performance pre golden globes', 1), ('the golden globe', 1), ('this golden globes dinner', 1), ('the Christmas', 1), ('picture of you standing next to them from that one time you bumped into them at a', 1), ('mustique', 1), ('the same golden globes', 1), ('a frat', 1), ('shit again because of this', 1), ('a kids bday', 1), ('the golden globes are anything more than a hollywood dress up', 1), ('Yves Saint Laurent Golden Globes pre', 1)]\n"
     ]
    }
   ],
   "source": [
    "print(p_tweet)"
   ]
  },
  {
   "cell_type": "code",
   "execution_count": 93,
   "metadata": {},
   "outputs": [
    {
     "name": "stdout",
     "output_type": "stream",
     "text": [
      "19\n"
     ]
    }
   ],
   "source": [
    "data = load_data(\"2013\")\n",
    "#clean_data(data)\n",
    "p_tweet = find_party(data)\n",
    "print (len(p_tweet))"
   ]
  },
  {
   "cell_type": "code",
   "execution_count": 94,
   "metadata": {},
   "outputs": [
    {
     "data": {
      "text/plain": [
       "[('the InStyle', 7),\n",
       " ('this', 3),\n",
       " ('that', 2),\n",
       " ('the vicious queens at this', 1),\n",
       " ('W Magazine pre Golden Globes', 1),\n",
       " ('whole foods for golden globes', 1),\n",
       " ('time at the Golden Globes', 1),\n",
       " ('the Beverly Hilton is basically a Hallowhedon', 1),\n",
       " ('my all star dinner', 1),\n",
       " ('my birthday', 1),\n",
       " ('other girl she met at that', 1),\n",
       " ('her globes watch', 1),\n",
       " ('there is no funner dinner', 1),\n",
       " ('Twitter', 1),\n",
       " ('dinner', 1),\n",
       " ('a track pasta', 1),\n",
       " ('Bill is in the place its a', 1),\n",
       " ('a golden globes', 1),\n",
       " ('a birthday', 1)]"
      ]
     },
     "execution_count": 94,
     "metadata": {},
     "output_type": "execute_result"
    }
   ],
   "source": [
    "p_tweet"
   ]
  },
  {
   "cell_type": "code",
   "execution_count": 95,
   "metadata": {},
   "outputs": [
    {
     "name": "stdout",
     "output_type": "stream",
     "text": [
      "152\n"
     ]
    }
   ],
   "source": [
    "data = load_data(\"2015\")\n",
    "#clean_data(data)\n",
    "p_tweet = find_party(data)\n",
    "print (len(p_tweet))"
   ]
  },
  {
   "cell_type": "code",
   "execution_count": 96,
   "metadata": {},
   "outputs": [
    {
     "data": {
      "text/plain": [
       "[('the HBO Golden Globes', 18),\n",
       " ('a Golden Globes', 11),\n",
       " ('this', 7),\n",
       " ('the GG', 7),\n",
       " ('the HBO', 7),\n",
       " ('Instyle', 5),\n",
       " ('the InStyle Golden Globes', 5),\n",
       " ('every', 4),\n",
       " ('a dinner', 4),\n",
       " ('the INSTYLE', 4),\n",
       " ('a golden globes', 3),\n",
       " ('Fox', 3),\n",
       " ('this Golden Globes', 3),\n",
       " ('my GG', 3),\n",
       " ('a pre Golden Globes', 3),\n",
       " ('the CAA Golden Globes', 3),\n",
       " ('the Pre Golden Globes', 2),\n",
       " ('the Fox Golden Globes', 2),\n",
       " ('the golden globe', 2),\n",
       " ('GG watch', 2),\n",
       " ('the InStyle viewing', 2),\n",
       " ('as you leave his', 2),\n",
       " ('bella will attend the golden globes', 2),\n",
       " ('the fox', 2),\n",
       " ('the NBC viewing', 2),\n",
       " ('this viewing', 2),\n",
       " ('writer and great actor at the golden globe', 2),\n",
       " ('our golden globe', 2),\n",
       " ('the Hbo', 2),\n",
       " ('mocking North Korea tonight is a', 2),\n",
       " ('NBC viewing', 2),\n",
       " ('the Golden Globes Instyle', 2),\n",
       " ('this golden globes', 2),\n",
       " ('the Golden Globes I am following Bill Murray to whatever', 2),\n",
       " ('nice couple at a', 2),\n",
       " ('the lovely view that the Fox', 2),\n",
       " ('the InStyle watch', 2),\n",
       " ('frat house', 2),\n",
       " ('for Golden Globes viewing', 2),\n",
       " ('the InStyleWarnerBrothers Golden Globe', 2),\n",
       " ('with Jeff Bezos at the HBO', 2),\n",
       " ('she said about her', 2),\n",
       " ('a Globes watch', 2),\n",
       " ('my viewing', 2),\n",
       " ('the CAA Golden Globes pre', 2),\n",
       " ('is instyle golden globes', 2),\n",
       " ('the guy named Billy Bob would be the most reserved at a', 2),\n",
       " ('the same', 2),\n",
       " ('a boring dinner', 2),\n",
       " ('instyle', 2),\n",
       " ('the same Golden Globes', 2),\n",
       " ('least a Golden Globes', 2),\n",
       " ('the GG ceremony but u see her at the HBO', 2),\n",
       " ('the red carpet is the guy at a', 2),\n",
       " ('a house', 2),\n",
       " ('harry meets conchita at some golden globe', 2),\n",
       " ('an iranian', 1),\n",
       " ('the ', 1),\n",
       " ('r worthy of that kinda', 1),\n",
       " ('to wear to your Golden Globes screening', 1),\n",
       " ('face makes me wanna', 1),\n",
       " ('the gg xD they just want to', 1),\n",
       " ('the Christmas', 1),\n",
       " ('a big Golden Globes', 1),\n",
       " ('the golden globes pre', 1),\n",
       " ('a separate', 1),\n",
       " ('our GG watch', 1),\n",
       " ('a gg', 1),\n",
       " ('a red carpet theme', 1),\n",
       " ('color dress are you wearing for our golden globes', 1),\n",
       " ('was last year at the In Style', 1),\n",
       " ('a golden globe pre', 1),\n",
       " ('the beautiful Mermaid at the', 1),\n",
       " ('about the poor blacks that get killed by whites how dare you', 1),\n",
       " ('the InStyle GG', 1),\n",
       " ('other double nominee cracks Dahmer', 1),\n",
       " ('InStyle', 1),\n",
       " ('our next', 1),\n",
       " ('his annual office', 1),\n",
       " ('Fox viewing', 1),\n",
       " ('the Fox', 1),\n",
       " ('BAFTA', 1),\n",
       " ('a crowded', 1),\n",
       " ('the Beverly Hilton viewing', 1),\n",
       " ('they were shooting the movie at the golden globes or am I late to the', 1),\n",
       " ('a swanky cocktail', 1),\n",
       " ('a work', 1),\n",
       " ('a GG', 1),\n",
       " ('the post Golden Globe', 1),\n",
       " ('Girls season', 1),\n",
       " ('happens when you plan an extravagant outdoor', 1),\n",
       " ('the sutler for golden globes viewing', 1),\n",
       " ('her own Golden Globes viewing', 1),\n",
       " ('Harry goes to a Golden Globes', 1),\n",
       " ('at a', 1),\n",
       " ('my next landmark birthday', 1),\n",
       " ('the Golden Globes are a', 1),\n",
       " ('a real Hollywood', 1),\n",
       " ('a golden globes watching', 1),\n",
       " ('my Golden Globes', 1),\n",
       " ('the elite Hollywood viewing', 1),\n",
       " ('a viewing', 1),\n",
       " ('a golden globes adter', 1),\n",
       " ('a golden globes or any other celeb', 1),\n",
       " ('The Weinstein Company viewing', 1),\n",
       " ('excuse for a', 1),\n",
       " ('the HBO Golden Globe', 1),\n",
       " ('the InStyle post Golden Globes', 1),\n",
       " ('guy that you have to invite to a', 1),\n",
       " ('look at my next work', 1),\n",
       " ('the Hallmark', 1),\n",
       " ('NBC universal', 1),\n",
       " ('the same golden globe', 1),\n",
       " ('the post golden globes', 1),\n",
       " ('Bill Murray took a break from bachelor', 1),\n",
       " ('a pointless', 1),\n",
       " ('HBO', 1),\n",
       " ('a slumber', 1),\n",
       " ('the W', 1),\n",
       " ('Chateau Marmont Golden Globe', 1),\n",
       " ('W Magazine pre Golden Globes', 1),\n",
       " ('the Golden Globes weekend', 1),\n",
       " ('the FOX Golden Globe', 1),\n",
       " ('pre Golden Globes', 1),\n",
       " ('your viewing', 1),\n",
       " ('the CBS Golden Globes Nominations', 1),\n",
       " ('the TSFL training and Red Carpet', 1),\n",
       " ('girls night from too much hardcore', 1),\n",
       " ('canelo is out', 1),\n",
       " ('no one invited me to their Golden Globes', 1),\n",
       " ('douchey guy at a', 1),\n",
       " ('rich people', 1),\n",
       " ('start the', 1),\n",
       " ('my engagement', 1),\n",
       " ('looks freaking amazing right now at a Golden Globes', 1),\n",
       " ('its a', 1),\n",
       " ('Texas Roadhouse asked me if I was', 1),\n",
       " ('awful annual office', 1),\n",
       " ('type of', 1),\n",
       " ('Dessange for your next', 1),\n",
       " ('GoldenGlobes viewing', 1),\n",
       " ('are the chances of somereed at a golden globe', 1),\n",
       " ('the hell is an Instyle Golden Globes', 1),\n",
       " ('will have a Golden Globe', 1),\n",
       " ('you have to go to a family', 1),\n",
       " ('my staff', 1),\n",
       " ('that golden globes', 1),\n",
       " ('if emily bett rickards and stana katic were super cute together at the GG',\n",
       "  1),\n",
       " ('the same golden globes', 1),\n",
       " ('the instyle  golden globes', 1),\n",
       " ('guy at a', 1),\n",
       " ('fancy', 1)]"
      ]
     },
     "execution_count": 96,
     "metadata": {},
     "output_type": "execute_result"
    }
   ],
   "source": [
    "p_tweet"
   ]
  },
  {
   "cell_type": "code",
   "execution_count": 107,
   "metadata": {},
   "outputs": [
    {
     "name": "stdout",
     "output_type": "stream",
     "text": [
      "65\n",
      "Party People Most Talk: the YSL pre Golden Globes\n",
      "Sentiment Score for the Party: (0.3, 0.5)\n"
     ]
    }
   ],
   "source": [
    "data = load_data(\"2020\")\n",
    "#data = clean_data(data)\n",
    "p_tweet = find_party(data)\n",
    "print (len(p_tweet))\n",
    "\n",
    "most_party_twitter = []\n",
    "for item in data:\n",
    "    if p_tweet[0][0] in item:\n",
    "        most_party_twitter.append(item)\n",
    "print (\"Party People Most Talk:\", p_tweet[0][0])\n",
    "print (\"Sentiment Score for the Party:\", sentiment(most_party_twitter))\n"
   ]
  },
  {
   "cell_type": "code",
   "execution_count": 109,
   "metadata": {},
   "outputs": [
    {
     "name": "stdout",
     "output_type": "stream",
     "text": [
      "19\n",
      "Party People Most Talk: the InStyle\n",
      "Sentiment Score for the Party: (0.3263392857142858, 0.5642857142857143)\n"
     ]
    }
   ],
   "source": [
    "data = load_data(\"2013\")\n",
    "#data = clean_data(data)\n",
    "p_tweet = find_party(data)\n",
    "print (len(p_tweet))\n",
    "\n",
    "most_party_twitter = []\n",
    "for item in data:\n",
    "    if p_tweet[0][0] in item:\n",
    "        most_party_twitter.append(item)\n",
    "print (\"Party People Most Talk:\", p_tweet[0][0])\n",
    "print (\"Sentiment Score for the Party:\", sentiment(most_party_twitter))"
   ]
  },
  {
   "cell_type": "code",
   "execution_count": 110,
   "metadata": {},
   "outputs": [
    {
     "name": "stdout",
     "output_type": "stream",
     "text": [
      "152\n",
      "Party People Most Talk: the HBO Golden Globes\n",
      "Sentiment Score for the Party: (0.20460526315789462, 0.5837719298245613)\n"
     ]
    }
   ],
   "source": [
    "data = load_data(\"2015\")\n",
    "#data = clean_data(data)\n",
    "p_tweet = find_party(data)\n",
    "print (len(p_tweet))\n",
    "\n",
    "most_party_twitter = []\n",
    "for item in data:\n",
    "    if p_tweet[0][0] in item:\n",
    "        most_party_twitter.append(item)\n",
    "print (\"Party People Most Talk:\", p_tweet[0][0])\n",
    "print (\"Sentiment Score for the Party:\", sentiment(most_party_twitter))"
   ]
  },
  {
   "cell_type": "code",
   "execution_count": null,
   "metadata": {},
   "outputs": [],
   "source": []
  }
 ],
 "metadata": {
  "kernelspec": {
   "display_name": "Python 3",
   "language": "python",
   "name": "python3"
  },
  "language_info": {
   "codemirror_mode": {
    "name": "ipython",
    "version": 3
   },
   "file_extension": ".py",
   "mimetype": "text/x-python",
   "name": "python",
   "nbconvert_exporter": "python",
   "pygments_lexer": "ipython3",
   "version": "3.7.3"
  }
 },
 "nbformat": 4,
 "nbformat_minor": 4
}
