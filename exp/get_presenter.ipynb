{
 "cells": [
  {
   "cell_type": "code",
   "execution_count": 311,
   "metadata": {},
   "outputs": [],
   "source": [
    "# from numba import jit"
   ]
  },
  {
   "cell_type": "code",
   "execution_count": 312,
   "metadata": {},
   "outputs": [],
   "source": [
    "import re\n",
    "import nltk\n",
    "from imdb import IMDb\n",
    "from difflib import SequenceMatcher\n",
    "\n",
    "OFFICIAL_AWARDS_1315 = ['cecil b. demille award', 'best motion picture - drama', 'best performance by an actress in a motion picture - drama', 'best performance by an actor in a motion picture - drama', 'best motion picture - comedy or musical', 'best performance by an actress in a motion picture - comedy or musical', 'best performance by an actor in a motion picture - comedy or musical', 'best animated feature film', 'best foreign language film', 'best performance by an actress in a supporting role in a motion picture', 'best performance by an actor in a supporting role in a motion picture', 'best director - motion picture', 'best screenplay - motion picture', 'best original score - motion picture', 'best original song - motion picture', 'best television series - drama', 'best performance by an actress in a television series - drama', 'best performance by an actor in a television series - drama', 'best television series - comedy or musical', 'best performance by an actress in a television series - comedy or musical', 'best performance by an actor in a television series - comedy or musical', 'best mini-series or motion picture made for television', 'best performance by an actress in a mini-series or motion picture made for television', 'best performance by an actor in a mini-series or motion picture made for television', 'best performance by an actress in a supporting role in a series, mini-series or motion picture made for television', 'best performance by an actor in a supporting role in a series, mini-series or motion picture made for television']\n",
    "OFFICIAL_AWARDS_1819 = ['best motion picture - drama', 'best motion picture - musical or comedy', 'best performance by an actress in a motion picture - drama', 'best performance by an actor in a motion picture - drama', 'best performance by an actress in a motion picture - musical or comedy', 'best performance by an actor in a motion picture - musical or comedy', 'best performance by an actress in a supporting role in any motion picture', 'best performance by an actor in a supporting role in any motion picture', 'best director - motion picture', 'best screenplay - motion picture', 'best motion picture - animated', 'best motion picture - foreign language', 'best original score - motion picture', 'best original song - motion picture', 'best television series - drama', 'best television series - musical or comedy', 'best television limited series or motion picture made for television', 'best performance by an actress in a limited series or a motion picture made for television', 'best performance by an actor in a limited series or a motion picture made for television', 'best performance by an actress in a television series - drama', 'best performance by an actor in a television series - drama', 'best performance by an actress in a television series - musical or comedy', 'best performance by an actor in a television series - musical or comedy', 'best performance by an actress in a supporting role in a series, limited series or motion picture made for television', 'best performance by an actor in a supporting role in a series, limited series or motion picture made for television', 'cecil b. demille award']"
   ]
  },
  {
   "cell_type": "code",
   "execution_count": 313,
   "metadata": {},
   "outputs": [
    {
     "data": {
      "text/plain": [
       "['best performance by an actor in a motion picture - comedy or musical',\n",
       " 'best performance by an actress in a television series - comedy or musical',\n",
       " 'best animated feature film',\n",
       " 'best performance by an actor in a television series - comedy or musical',\n",
       " 'best television series - comedy or musical',\n",
       " 'best performance by an actor in a supporting role in a series, mini-series or motion picture made for television',\n",
       " 'best performance by an actress in a supporting role in a motion picture',\n",
       " 'best performance by an actress in a supporting role in a series, mini-series or motion picture made for television',\n",
       " 'best mini-series or motion picture made for television',\n",
       " 'best motion picture - comedy or musical',\n",
       " 'best performance by an actress in a mini-series or motion picture made for television',\n",
       " 'best foreign language film',\n",
       " 'best performance by an actor in a supporting role in a motion picture',\n",
       " 'best performance by an actress in a motion picture - comedy or musical',\n",
       " 'best performance by an actor in a mini-series or motion picture made for television']"
      ]
     },
     "execution_count": 313,
     "metadata": {},
     "output_type": "execute_result"
    }
   ],
   "source": [
    "list(set(OFFICIAL_AWARDS_1315) - set(OFFICIAL_AWARDS_1819))"
   ]
  },
  {
   "cell_type": "code",
   "execution_count": 314,
   "metadata": {},
   "outputs": [],
   "source": [
    "import itertools\n",
    "import json\n",
    "\n",
    "def get_tweets(year):\n",
    "    try:\n",
    "        if year == \"2013\" or year == \"2015\" or year == \"2018\" or year == \"2019\":\n",
    "            f = open('gg'+year+'.json')\n",
    "            data = json.load(f)\n",
    "            TWEETS = [tweet['text'] for tweet in data]\n",
    "            TWEETS.sort()\n",
    "            TWEETS = list(TWEETS for TWEETS,_ in itertools.groupby(TWEETS))\n",
    "            return TWEETS\n",
    "        else:                                              ## need to know 1819 open methods???????????\n",
    "            with open('gg'+year+'.json', encoding='utf8') as json_file:\n",
    "                data = [json.loads(line) for line in json_file]\n",
    "            TWEETS = [tweet['text'] for tweet in data]\n",
    "\n",
    "            TWEETS.sort()\n",
    "            TWEETS = list(TWEETS for TWEETS,_ in itertools.groupby(TWEETS))\n",
    "            return TWEETS\n",
    "    except:\n",
    "        return False"
   ]
  },
  {
   "cell_type": "code",
   "execution_count": 315,
   "metadata": {},
   "outputs": [],
   "source": [
    "\n",
    "def divide_tweets(year):\n",
    "\n",
    "    print(\"\\nProcessing data of year {}\".format(year))\n",
    "    \n",
    "    tweets = get_tweets(year)\n",
    "    tweet_by_award_dict = dict()\n",
    "    \n",
    "    if year == \"2013\" or year == \"2015\": #or year == \"2020\":\n",
    "        OFFICIAL_AWARDS = OFFICIAL_AWARDS_1315\n",
    "    else: \n",
    "        OFFICIAL_AWARDS = OFFICIAL_AWARDS_1819\n",
    "        \n",
    "    for award in OFFICIAL_AWARDS:\n",
    "        tweet_by_award_dict[award] = []\n",
    "\n",
    "    to_delete = ['-', 'a', 'an', 'award', 'best', 'by', 'for', 'in', 'made', 'or', 'performance', 'role',\n",
    "                 'feature', 'language']\n",
    "\n",
    "    fresh_names = dict()\n",
    "    for award in OFFICIAL_AWARDS:\n",
    "        fresh_names[award] = [[item for item in award.split() if not item in to_delete]]\n",
    "\n",
    "    for award in OFFICIAL_AWARDS:\n",
    "        if \"television\" in award:\n",
    "            for word in ['tv', 't.v.']:\n",
    "                extra = award.replace(\"television\", word)\n",
    "                fresh_names[award].append([item for item in extra.split() if not item in to_delete])\n",
    "\n",
    "        if \"motion picture\" in award:\n",
    "            for word in ['movie', 'film']:\n",
    "                extra = award.replace(\"motion picture\", word)\n",
    "                fresh_names[award].append([item for item in extra.split() if not item in to_delete])\n",
    "\n",
    "\n",
    "        if \"film\" in award:\n",
    "            for word in ['motion picture', 'movie']:\n",
    "                extra = award.replace(\"film\", word)\n",
    "                fresh_names[award].append([item for item in extra.split() if not item in to_delete])\n",
    "\n",
    "        if \"comedy or musical\" in award:\n",
    "            for word in ['comedy', 'musical']:\n",
    "                extra = award.replace(\"comedy or musical\", word)\n",
    "                fresh_names[award].append([item for item in extra.split() if not item in to_delete])\n",
    "\n",
    "    \n",
    "\n",
    "        if \"series, mini-series or motion picture made for television\" in award:\n",
    "            for word in ['series', 'mini-series', 'miniseries', 'tv', 'television', 'tv movie', 'tv series', 'television series']:\n",
    "                extra = award.replace(\"series, mini-series or motion picture made for television\", word)\n",
    "                fresh_names[award].append([item for item in extra.split() if not item in to_delete])\n",
    "\n",
    "            \n",
    "\n",
    "        if \"mini-series or motion picture made for television\" in award:\n",
    "            for word in ['television movie', 'mini-series', 'miniseries', 'tv movie']:\n",
    "                extra = award.replace(\"mini-series or motion picture made for television\", word)\n",
    "                fresh_names[award].append([item for item in extra.split() if not item in to_delete])\n",
    "\n",
    "        if \"television series\" in award:\n",
    "            for word in ['tv', 't.v.', 'television', 'series']:\n",
    "                extra = award.replace(\"television series\", word)\n",
    "                fresh_names[award].append([item for item in extra.split() if not item in to_delete])\n",
    "\n",
    "\n",
    "        if \"television series - comedy or musical\" in award:\n",
    "\n",
    "            for word in [\"tv comedy\", \"tv musical\", \"comedy series\", \"t.v. comedy\", \"t.v. musical\", \"television comedy\", \"television musical\"]:\n",
    "                extra = award.replace(\"television series - comedy or musical\", word)\n",
    "                fresh_names[award].append([item for item in extra.split() if not item in to_delete])\n",
    "\n",
    "        if \"television series - drama\" in award:\n",
    "            for word in [\"tv drama\", \"drama series\", \"television drama\", \"t.v. drama\"]:\n",
    "                extra = award.replace(\"television series - drama\", word)\n",
    "                fresh_names[award].append([item for item in extra.split() if not item in to_delete])\n",
    "\n",
    "    OFFICIAL_AWARDS.sort(key=lambda s: len(s), reverse=True)\n",
    "\n",
    "    for award in OFFICIAL_AWARDS:\n",
    "        tweet_length = len(tweets)\n",
    "        for i in range(tweet_length - 1, -1, -1):\n",
    "            tweet = tweets[i]\n",
    "            for extra in fresh_names[award]:\n",
    "                flag = True\n",
    "                for word in extra:\n",
    "                    if flag == True:\n",
    "                        flag = flag and word.lower() in tweet.lower()\n",
    "\n",
    "                if flag == True:\n",
    "                    tweet_by_award_dict[award].append(tweet)\n",
    "                    del tweets[i]\n",
    "                    break\n",
    "\n",
    "\n",
    "    return tweet_by_award_dict"
   ]
  },
  {
   "cell_type": "code",
   "execution_count": 316,
   "metadata": {},
   "outputs": [],
   "source": [
    "\n",
    "def get_presenters(year):\n",
    "    #code for presenters\n",
    "    ia = IMDb()\n",
    "\n",
    "    award_tweet_dict = divide_tweets(year)\n",
    "    print (\"Done Preprocessing...\")\n",
    "    \n",
    "    presenters_dict_by_awards = {}\n",
    "    stop = [\"original\", \"originals\", \"best\", \"screenplay\", \"feature\", \"animated\", \"actress\", \"motion\", \"picture\", 'lifetime', \"series\", \"comedy\", \"actor\", \"supporting\", \"movie\", \"foreign\", \"golden\", \"award\", \"goldenglobes\", \"globes\", \"film\"]\n",
    "\n",
    "    single_presenter_pattern = re.compile(r'[A-Z][a-z]+\\s[A-Z][a-z]+(?=\\spresent|\\sis\\spresenting|\\sis\\sintroducing|\\sgive|\\sis\\sgiving|\\spronounce|\\sis\\spronouncing|\\saward|\\sis\\sawarding)')\n",
    "    multiple_presenters_pattern = re.compile(r'[A-Z][a-z]+\\s[A-Z][a-z]+\\sand\\s[A-Z][a-z]*.*\\s*[A-Z][a-z]+(?=\\spresent|\\sintroduc|\\sare\\sintroducing|\\sgive|\\sare\\sgiving|\\spronounce|\\sare\\spronouncing|\\saward|\\sare\\sawarding)')\n",
    "        \n",
    "    for award in award_tweet_dict:\n",
    "        presenters_dict_by_awards[award] = []\n",
    "\n",
    "        for tweet in award_tweet_dict[award]:\n",
    "            tweet = re.sub(r'&amp;', 'and', tweet)\n",
    "            tweet = re.sub(r'\\s+@\\w+', '', tweet)\n",
    "            multiple_presenters = re.findall(multiple_presenters_pattern, tweet)\n",
    "\n",
    "            for presenter in multiple_presenters:\n",
    "                pp = presenter.split(' and ')\n",
    "                p1 = pp[0]\n",
    "                if any(word in p1.lower() for word in stop):\n",
    "                    continue\n",
    "\n",
    "                pp = presenter.split(' and ')\n",
    "                pt = pp[1]\n",
    "                ptt = pt.split(' ')\n",
    "                pttname = ptt[0:2]\n",
    "                p2 = ' '.join(pttname)\n",
    "                if any(word in p2.lower() for word in stop):\n",
    "                    continue\n",
    "\n",
    "                person = ia.search_person(p1)\n",
    "                if person:\n",
    "                    p1 = person[0]['name'].lower()\n",
    "                person = ia.search_person(p2)\n",
    "                if person:\n",
    "                    p2 = person[0]['name'].lower()\n",
    "                if p1 not in presenters_dict_by_awards[award]:\n",
    "                    presenters_dict_by_awards[award].append(p1)\n",
    "                if p2 not in presenters_dict_by_awards[award]:\n",
    "                    presenters_dict_by_awards[award].append(p2)\n",
    "\n",
    "            single_presenter = re.findall(single_presenter_pattern, tweet)\n",
    "            for presenter in single_presenter:\n",
    "                if any(word in presenter.lower() for word in stop):\n",
    "                    continue\n",
    "                person = ia.search_person(presenter)\n",
    "                if person:\n",
    "                    presenter = person[0]['name'].lower()\n",
    "                if presenter not in presenters_dict_by_awards[award]:\n",
    "                    presenters_dict_by_awards[award].append(presenter)\n",
    "\n",
    "    return presenters_dict_by_awards"
   ]
  },
  {
   "cell_type": "code",
   "execution_count": 317,
   "metadata": {},
   "outputs": [
    {
     "name": "stdout",
     "output_type": "stream",
     "text": [
      "\n",
      "Processing data of year 2015\n",
      "Done Preprocessing...\n",
      "{'cecil b. demille award': ['julianna margulies', 'robert downey jr.', 'don cheadle', 'robert de niro', 'al pacino', 'george clooney', 'caryl hathaway', 'Alicia Florrick', 'earl rhodes', 'marty krofft'], 'best motion picture - drama': ['meryl streep', 'jack black', 'clive owen', 'channing tatum'], 'best performance by an actress in a motion picture - drama': ['julianne moore', 'matthew mcconaughey'], 'best performance by an actor in a motion picture - drama': ['gwyneth paltrow'], 'best motion picture - comedy or musical': ['robert downey jr.'], 'best performance by an actress in a motion picture - comedy or musical': ['ricky gervais'], 'best performance by an actor in a motion picture - comedy or musical': ['amy adams'], 'best animated feature film': ['salma hayek', 'kevin hart', 'kevin heart'], 'best foreign language film': ['colin farrell'], 'best performance by an actress in a supporting role in a motion picture': ['jared leto'], 'best performance by an actor in a supporting role in a motion picture': ['jennifer aniston', 'benedict cumberbatch'], 'best director - motion picture': ['harrison ford'], 'best screenplay - motion picture': ['kristen wiig', 'bill hader'], 'best original score - motion picture': ['sienna miller', 'vince vaughn'], 'best original song - motion picture': [], 'best television series - drama': ['paul rudd', 'adam levine'], 'best performance by an actress in a television series - drama': ['anna faris', 'chris pratt', 'shanna ferrigno'], 'best performance by an actor in a television series - drama': ['katherine heigl', 'kate mara', 'david duchovny'], 'best television series - comedy or musical': [], 'best performance by an actress in a television series - comedy or musical': ['kerry washington', 'bryan cranston'], 'best performance by an actor in a television series - comedy or musical': ['jane fonda', 'lily tomlin'], 'best mini-series or motion picture made for television': ['matt bomer', 'jennifer lopez', 'jeremy renner'], 'best performance by an actress in a mini-series or motion picture made for television': ['kate beckinsale', 'adrien brody', 'sweet lea lea'], 'best performance by an actor in a mini-series or motion picture made for television': ['bob thornton'], 'best performance by an actress in a supporting role in a series, mini-series or motion picture made for television': [], 'best performance by an actor in a supporting role in a series, mini-series or motion picture made for television': ['dakota johnson', 'jamie dorman', 'katy holmes', 'seth meyers', 'katie holmes']}\n"
     ]
    }
   ],
   "source": [
    "year = \"2015\"\n",
    "presenter_list = get_presenters(year)\n",
    "print (presenter_list)"
   ]
  },
  {
   "cell_type": "code",
   "execution_count": 131,
   "metadata": {},
   "outputs": [
    {
     "data": {
      "text/plain": [
       "26"
      ]
     },
     "execution_count": 131,
     "metadata": {},
     "output_type": "execute_result"
    }
   ],
   "source": [
    "len(presenter_list)"
   ]
  },
  {
   "cell_type": "code",
   "execution_count": 150,
   "metadata": {},
   "outputs": [
    {
     "name": "stdout",
     "output_type": "stream",
     "text": [
      "\n",
      "Processing data of year 2020\n"
     ]
    }
   ],
   "source": [
    "award_tweet_dict = divide_tweets(year)"
   ]
  },
  {
   "cell_type": "code",
   "execution_count": 297,
   "metadata": {
    "scrolled": true
   },
   "outputs": [
    {
     "name": "stdout",
     "output_type": "stream",
     "text": [
      "Golden Girl. Sandra Bullock lights up the night presenting Best Motion Picture, Drama at the 77th Annual #GoldenGlobes in a custom ochre silk moiré faille gown. Photographed by @bryrandall. https://t.co/AzKfEzIz09\n",
      "Fashion And Fitness Top story: @OscardelaRenta: 'Golden Girl. Sandra Bullock lights up the night presenting Best Motion Picture, Drama at the 77th Annual #GoldenGlobes in a custom ochre silk moiré faille gown. Photograp… https://t.co/eWDiRNwuXw, see more https://t.co/2bEF4kyiUd\n"
     ]
    }
   ],
   "source": [
    "for award in award_tweet_dict:\n",
    "    for tweet in award_tweet_dict[award]:\n",
    "        if \"sandra bullock\" in tweet.lower():# and \"actor\" in tweet.lower():\n",
    "            print (tweet)\n",
    "            \n",
    "            #tweet = re.sub(r'&amp;', 'and', tweet)\n",
    "            #tweet = re.sub(r'\\s+@\\w+', '', tweet)\n",
    "            #print (tweet)"
   ]
  },
  {
   "cell_type": "code",
   "execution_count": 296,
   "metadata": {},
   "outputs": [
    {
     "name": "stdout",
     "output_type": "stream",
     "text": [
      "Fashion And Fitness Top story: @OscardelaRenta: 'Golden Girl. Sandra Bullock lights up the night presenting Best Motion Picture, Drama at the 77th Annual #GoldenGlobes in a custom ochre silk moiré faille gown. Photograp… https://t.co/eWDiRNwuXw, see more https://t.co/2bEF4kyiUd\n",
      "Golden Girl. Sandra Bullock lights up the night presenting Best Motion Picture, Drama at the 77th Annual #GoldenGlobes in a custom ochre silk moiré faille gown. Photographed by @bryrandall. https://t.co/AzKfEzIz09\n",
      "When you didn't realize parasite wasn't nominated for best drama until you are watching Sandra Bullock read the nominees during the golden globes\n",
      "https://t.co/EnCPlM2QtO  Talk about a dramatic win! Sandra Bullock presented the last award of the night at Sunday's 2020 Golden Globe Aw... https://t.co/0PZtCN5zsI\n",
      "https://t.co/yL6A4a8OYl Talk about a dramatic win!\n",
      "Sandra Bullock presented the last award of the night at Sunday's 2020 Golden Globe Aw... https://t.co/bByAWZm4Qz\n"
     ]
    }
   ],
   "source": [
    "import goslate\n",
    "tweets = get_tweets(year)\n",
    "#from translate import Translator\n",
    "#translator = Translator(from_lang='autodetect', to_lang='en')\n",
    "\n",
    "\n",
    "for tweet in tweets:\n",
    "    #tweet = translator.translate(tweet)\n",
    "    if \"sandra bullock\" in tweet.lower() and \"drama\" in tweet.lower():\n",
    "        print (tweet)"
   ]
  },
  {
   "cell_type": "code",
   "execution_count": 12,
   "metadata": {},
   "outputs": [
    {
     "data": {
      "text/plain": [
       "26"
      ]
     },
     "execution_count": 12,
     "metadata": {},
     "output_type": "execute_result"
    }
   ],
   "source": [
    "len(winner_list)"
   ]
  },
  {
   "cell_type": "code",
   "execution_count": null,
   "metadata": {},
   "outputs": [],
   "source": [
    "personaward = [] # 16\n",
    "for award in OFFICIAL_AWARDS_1315:\n",
    "        for person in [\"actor\", \"actress\", \"demille\", \"director\"]:\n",
    "            if person in award.split():\n",
    "                personaward.append(award)\n",
    "                "
   ]
  },
  {
   "cell_type": "code",
   "execution_count": null,
   "metadata": {},
   "outputs": [],
   "source": [
    "thingaward = []\n",
    "for award in OFFICIAL_AWARDS_1315:\n",
    "        if award not in personaward:\n",
    "            thingaward.append(award)"
   ]
  },
  {
   "cell_type": "code",
   "execution_count": null,
   "metadata": {},
   "outputs": [],
   "source": [
    "thingaward"
   ]
  },
  {
   "cell_type": "code",
   "execution_count": 34,
   "metadata": {},
   "outputs": [
    {
     "name": "stdout",
     "output_type": "stream",
     "text": [
      "Lana Wachowski\n",
      "Lilly Wachowski\n"
     ]
    }
   ],
   "source": [
    "from imdb import IMDb\n",
    "\n",
    "# create an instance of the IMDb class\n",
    "ia = IMDb()\n",
    "\n",
    "# get a movie and print its director(s)\n",
    "the_matrix = ia.get_movie('0133093')\n",
    "for director in the_matrix['directors']:\n",
    "    print(director['name'])\n",
    "\n",
    "# show all information that are currently available for a movie\n",
    "#print(sorted(the_matrix.keys()))\n",
    "\n"
   ]
  },
  {
   "cell_type": "code",
   "execution_count": 38,
   "metadata": {},
   "outputs": [],
   "source": [
    "movies = ia.search_movie('amour austria')"
   ]
  },
  {
   "cell_type": "code",
   "execution_count": 39,
   "metadata": {},
   "outputs": [
    {
     "data": {
      "text/plain": [
       "[<Movie id:1076835[http] title:_A Mountain Torrent in Austria (1911)_>,\n",
       " <Movie id:5102928[http] title:_\"Second City Headlines & News\" Writing Czechs Your Austria Can't Cash (1997)_>,\n",
       " <Movie id:1876032[http] title:_\"The Amazing Race\" I Cannot Deal with Your Psycho Behavior: Austria (2011)_>,\n",
       " <Movie id:4697402[http] title:_\"Die Promicamper\" Prince Mario-Max Schaumburg-Lippe, Sepp Resnik, Yvonne Rueff and Davorka Tovilo tour Austria (2011)_>,\n",
       " <Movie id:4697408[http] title:_\"Die Promicamper\" Prince Mario-Max Schaumburg-Lippe, Sepp Resnik, Yvonne Rueff and Davorka Tovilo tour Austria (2011)_>,\n",
       " <Movie id:4697398[http] title:_\"Die Promicamper\" Prince Mario-Max Schaumburg-Lippe, Sepp Resnik, Yvonne Rueff and Davorka Tovilo tour Austria (2015)_>,\n",
       " <Movie id:4697392[http] title:_\"Die Promicamper\" Prince Mario-Max Schaumburg-Lippe, Sepp Resnik, Yvonne Rueff and Davorka Tovilo tour Austria (2011)_>,\n",
       " <Movie id:4697412[http] title:_\"Die Promicamper\" Prince Mario-Max Schaumburg-Lippe, Sepp Resnik, Yvonne Rueff and Davorka Tovilo tour Austria (2011)_>,\n",
       " <Movie id:4697378[http] title:_\"Die Promicamper\" Prince Mario-Max Schaumburg-Lippe, Sepp Resnik, Yvonne Rueff and Davorka Tovilo tour Austria (2011)_>,\n",
       " <Movie id:4697386[http] title:_\"Die Promicamper\" Prince Mario-Max Schaumburg-Lippe, Sepp Resnik, Yvonne Rueff and Davorka Tovilo tour Austria (2011)_>,\n",
       " <Movie id:4697406[http] title:_\"Die Promicamper\" Prince Mario-Max Schaumburg-Lippe, Sepp Resnik, Yvonne Rueff and Davorka Tovilo tour Austria (2011)_>,\n",
       " <Movie id:4697414[http] title:_\"Die Promicamper\" Prince Mario-Max Schaumburg-Lippe, Sepp Resnik, Yvonne Rueff and Davorka Tovilo tour Austria (2011)_>,\n",
       " <Movie id:4697396[http] title:_\"Die Promicamper\" Prince Mario-Max Schaumburg-Lippe, Sepp Resnik, Yvonne Rueff and Davorka Tovilo tour Austria (2011)_>]"
      ]
     },
     "execution_count": 39,
     "metadata": {},
     "output_type": "execute_result"
    }
   ],
   "source": [
    "movies"
   ]
  },
  {
   "cell_type": "code",
   "execution_count": 40,
   "metadata": {},
   "outputs": [
    {
     "name": "stdout",
     "output_type": "stream",
     "text": [
      "1911\n",
      "1997\n",
      "2011\n",
      "2011\n",
      "2011\n",
      "2015\n",
      "2011\n",
      "2011\n",
      "2011\n",
      "2011\n",
      "2011\n",
      "2011\n",
      "2011\n"
     ]
    }
   ],
   "source": [
    "for item in movies:\n",
    "    if item['year'] == 2012:\n",
    "        print (item['title'])\n",
    "    print (item['year'])"
   ]
  },
  {
   "cell_type": "code",
   "execution_count": 47,
   "metadata": {},
   "outputs": [],
   "source": [
    "act_names = ia.search_person('stellan skarsg')"
   ]
  },
  {
   "cell_type": "code",
   "execution_count": 50,
   "metadata": {},
   "outputs": [
    {
     "data": {
      "text/plain": [
       "'Stellan Skarsgård'"
      ]
     },
     "execution_count": 50,
     "metadata": {},
     "output_type": "execute_result"
    }
   ],
   "source": [
    "act_names[0]['name']"
   ]
  },
  {
   "cell_type": "code",
   "execution_count": 51,
   "metadata": {},
   "outputs": [
    {
     "name": "stdout",
     "output_type": "stream",
     "text": [
      "0.9032258064516129\n"
     ]
    }
   ],
   "source": [
    " print (SequenceMatcher(None, 'stellan skarsg',act_names[0]['name'].lower()).ratio())"
   ]
  },
  {
   "cell_type": "code",
   "execution_count": 52,
   "metadata": {},
   "outputs": [
    {
     "name": "stdout",
     "output_type": "stream",
     "text": [
      "0.7857142857142857\n"
     ]
    }
   ],
   "source": [
    " print (SequenceMatcher(None, 'stellan skarsg',act_names[1]['name'].lower()).ratio())"
   ]
  },
  {
   "cell_type": "code",
   "execution_count": null,
   "metadata": {},
   "outputs": [],
   "source": []
  }
 ],
 "metadata": {
  "kernelspec": {
   "display_name": "Python 3",
   "language": "python",
   "name": "python3"
  },
  "language_info": {
   "codemirror_mode": {
    "name": "ipython",
    "version": 3
   },
   "file_extension": ".py",
   "mimetype": "text/x-python",
   "name": "python",
   "nbconvert_exporter": "python",
   "pygments_lexer": "ipython3",
   "version": "3.7.3"
  }
 },
 "nbformat": 4,
 "nbformat_minor": 4
}
