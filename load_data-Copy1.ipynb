{
 "cells": [
  {
   "cell_type": "code",
   "execution_count": 1,
   "metadata": {},
   "outputs": [
    {
     "name": "stdout",
     "output_type": "stream",
     "text": [
      "\u001b[33mDownloading emoji data ...\u001b[0m\n",
      "\u001b[92m... OK\u001b[0m (Got response in 0.28 seconds)\n",
      "\u001b[33mWriting emoji data to C:\\Users\\victo\\.demoji/codes.json ...\u001b[0m\n",
      "\u001b[92m... OK\u001b[0m\n"
     ]
    }
   ],
   "source": [
    "import json\n",
    "import nltk\n",
    "import re\n",
    "import string\n",
    "from nltk.corpus import stopwords \n",
    "import demoji\n",
    "from nltk.chunk import conlltags2tree, tree2conlltags\n",
    "import spacy\n",
    "stop_words = set(stopwords.words('english')) \n",
    "demoji.download_codes()"
   ]
  },
  {
   "cell_type": "code",
   "execution_count": 2,
   "metadata": {},
   "outputs": [],
   "source": [
    "with open('gg2020.json', encoding='utf8') as json_file:\n",
    "    data = [json.loads(line) for line in json_file]"
   ]
  },
  {
   "cell_type": "code",
   "execution_count": 16,
   "metadata": {},
   "outputs": [],
   "source": [
    "data = json.load(open('gg2013.json'))"
   ]
  },
  {
   "cell_type": "code",
   "execution_count": 4,
   "metadata": {},
   "outputs": [],
   "source": [
    "def remove_punct(text):\n",
    "    text  = \"\".join([char for char in text if char not in string.punctuation])\n",
    "    text = re.sub('[0-9]+', '', text)\n",
    "    return text"
   ]
  },
  {
   "cell_type": "code",
   "execution_count": 3,
   "metadata": {},
   "outputs": [],
   "source": [
    "def strip_all_entities(text):\n",
    "    entity_prefixes = ['@','#']\n",
    "    for separator in  string.punctuation:\n",
    "        if separator not in entity_prefixes :\n",
    "            text = text.replace(separator,' ')\n",
    "    words = []\n",
    "    for word in text.split():\n",
    "        word = word.strip()\n",
    "        if word:\n",
    "            if word[0] not in entity_prefixes:\n",
    "                words.append(word)\n",
    "    return ' '.join(words)"
   ]
  },
  {
   "cell_type": "code",
   "execution_count": 18,
   "metadata": {},
   "outputs": [],
   "source": [
    "clean_data = []\n",
    "count = 0\n",
    "for tweet in data:\n",
    "    tweet_text = tweet['text']\n",
    "    no_http = re.sub('http://\\S+|https://\\S+', '', tweet_text)\n",
    "    remove_tag = strip_all_entities(no_http)\n",
    "    clean_data.append(remove_tag.lower())"
   ]
  },
  {
   "cell_type": "code",
   "execution_count": 19,
   "metadata": {},
   "outputs": [],
   "source": [
    "import itertools\n",
    "clean_data.sort()\n",
    "clean_data = list(clean_data for clean_data,_ in itertools.groupby(clean_data))"
   ]
  },
  {
   "cell_type": "code",
   "execution_count": 20,
   "metadata": {},
   "outputs": [],
   "source": [
    "# search host\n",
    "host_list = ['host', 'hosts', 'hosting', 'hosted']\n",
    "host_tweet = []\n",
    "for tweet in clean_data:\n",
    "    for test_word in host_list:\n",
    "        if test_word in tweet:\n",
    "            host_tweet.append(tweet)\n",
    "            break"
   ]
  },
  {
   "cell_type": "code",
   "execution_count": 21,
   "metadata": {},
   "outputs": [
    {
     "name": "stdout",
     "output_type": "stream",
     "text": [
      "Warning: parsing empty text\n"
     ]
    }
   ],
   "source": [
    "tag = nltk.pos_tag(clean_data[0])\n",
    "pattern = 'NP: {<DT>?<JJ>*<NN>}'\n",
    "cp = nltk.RegexpParser(pattern)\n",
    "cs = cp.parse(tag)\n",
    "iob = tree2conlltags(cs)"
   ]
  },
  {
   "cell_type": "code",
   "execution_count": 22,
   "metadata": {},
   "outputs": [],
   "source": [
    "i = 0\n",
    "nlp = spacy.load(\"en_core_web_sm\")\n",
    "#doc = nlp(' '.join(word for word in clean_data[i]))\n",
    "#print(' '.join(word for word in clean_data[i]))\n",
    "#for ent in doc.ents:\n",
    "#    print(ent.text, ent.start_char, ent.end_char, ent.label_)"
   ]
  },
  {
   "cell_type": "code",
   "execution_count": null,
   "metadata": {},
   "outputs": [],
   "source": [
    "name_list = []\n",
    "for tweet in host_tweet:\n",
    "    doc = nlp(tweet)\n",
    "    for ent in doc.ents:\n",
    "        if ent.label_ == \"PERSON\":\n",
    "            name_list.append(ent.text)"
   ]
  },
  {
   "cell_type": "code",
   "execution_count": 13,
   "metadata": {},
   "outputs": [],
   "source": [
    "unique_list = list(set(name_list))\n",
    "counter = []\n",
    "for item in unique_list:\n",
    "    counter.append(name_list.count(item))\n",
    "sort_counter = sorted(range(len(counter)), key=lambda k: counter[k], reverse=True)    "
   ]
  },
  {
   "cell_type": "code",
   "execution_count": 14,
   "metadata": {},
   "outputs": [],
   "source": [
    "possible_list = []\n",
    "for i in range(5):\n",
    "    name = unique_list[sort_counter[i]]\n",
    "    possible_list.append(name)\n",
    "reduced_possible_list = []\n",
    "for i in range(5):\n",
    "    test = possible_list[i]\n",
    "    conflict = 0\n",
    "    for j in range(5):\n",
    "        if test in possible_list[j] and i != j:\n",
    "            conflict = 1\n",
    "            break\n",
    "    if test not in reduced_possible_list and conflict == 0:\n",
    "        reduced_possible_list.append(test)\n",
    "# search first\n",
    "hosts = []\n",
    "hosts.append(reduced_possible_list[0])\n",
    "host_idx = possible_list.index(hosts[0])\n",
    "max_num = counter[sort_counter[host_idx]]\n",
    "# search second\n",
    "name_pair = []\n",
    "for name1 in reduced_possible_list:\n",
    "    for name2 in reduced_possible_list:\n",
    "        count = 0\n",
    "        for tweet in host_tweet:\n",
    "            tweetstr = ' '.join(map(str, tweet)) \n",
    "            if name1 + ' and ' + name2 in tweetstr or name2 + ' and ' + name1 in tweetstr:\n",
    "                count += 1\n",
    "        if count > max_num * 0.1:\n",
    "            name_pair.append([name1, name2, count])\n",
    "name_pair.sort(key=lambda x: x[2], reverse=True)\n",
    "if len(name_pair) > 0:\n",
    "    hosts = [name_pair[0][0],name_pair[0][1]]"
   ]
  },
  {
   "cell_type": "code",
   "execution_count": 15,
   "metadata": {},
   "outputs": [
    {
     "name": "stdout",
     "output_type": "stream",
     "text": [
      "['Ricky Gervais']\n"
     ]
    }
   ],
   "source": [
    "print(hosts)"
   ]
  },
  {
   "cell_type": "markdown",
   "metadata": {},
   "source": [
    "#### Find awards"
   ]
  },
  {
   "cell_type": "code",
   "execution_count": 4,
   "metadata": {},
   "outputs": [],
   "source": [
    "pattern = re.compile(r'(?<=w[oi]n[s]\\s)[Bb]est.*')\n",
    "tweet_sep = ['for','who',' s ','made','yet','?', 'golden', 'globe', 'globes',' | ', 'with' ,' at', ' http', ' #', '(','.', ',', '!', '?','\\\\', ':', ';', '\"', \"'\",'the','but','although', 'made']\n",
    "awards_bag_of_words = ['-','performance', 'actress', 'actor', 'supporting', 'role', 'director', 'motion', 'picture', 'drama','animated', 'feature', 'film', 'song','comedy', 'musical', 'language', 'foreign','screenplay', 'orginal', 'television', 'tv', 'series', 'mini-series', 'mini']\n"
   ]
  },
  {
   "cell_type": "code",
   "execution_count": 38,
   "metadata": {},
   "outputs": [],
   "source": [
    "awards = []\n",
    "for tweetx in data:\n",
    "    tweet = tweetx['text']\n",
    "    award = re.findall(pattern, tweet )\n",
    "    \n",
    "    if award:\n",
    "        #print(' '.join(map(str, tweet)))\n",
    "        #print(award)\n",
    "        for a in award:\n",
    "            #a = a.lower()\n",
    "            for sep in tweet_sep:\n",
    "                if sep in a:\n",
    "                    a = a.split(sep)[0]\n",
    "            if \"/\" in a:\n",
    "                a = a.replace('/',' or ')\n",
    "            awards.append(a)"
   ]
  },
  {
   "cell_type": "code",
   "execution_count": 34,
   "metadata": {},
   "outputs": [
    {
     "name": "stdout",
     "output_type": "stream",
     "text": [
      "['best personality on ', 'best movie', 'best dressed i m obsessed ', 'best facial hair of ', 'best supporting actor ', 'best supporting actor that', 'best supporting actor', 'best supporting', 'best supporting actor ', 'best supporting actor ', 'best supporting actor', 'best supporting actor ', 'best supporting actor ', 'best supporting actor did not think that was gon na happen', 'best supporting actor', 'best supporting actor ', 'best suppporting actor my favorite o', 'best supporting actor ', 'best supporting actor ', 'best supporting actor haven t seen django ', 'best supporting actor ', 'best supporting actor really enjoyed his per', 'best supporting actor motion picture ', 'best supporting actor ', 'best supporting actor ', 'best supporting actor ', 'best supporting actor ', 'best supporting actor ', 'best supporting actor ', 'best supporting actor ', 'best supporting actor ', 'best supporting actress in a miniseries ', 'best supporting actor', 'best supporting actress in a miniseries ', 'best supporting actor', 'best supporting actress in a tv show everyone playing tina and amy', 'best director', 'best supporting actor ', 'best supporting actor', 'best supporting actor', 'best supporting actor', 'best supporting actor', 'best supporting actor', 'best supporting actress in a tv show everyone playing tina and amy', 'best supporting actor in django unchained maggie smith wins best supporting tv actress in downton abbey', 'best supporting actor', 'best supporting actress in a tv show everyone playing tina and amy', 'best supporting actor', 'best supporting actress in a tv show everyone playing tina and amy', 'best supporting actor', 'best supporting actor', 'best supporting actress and i m 1 ', 'best supporting actress in a tv show everyone playing tina and amy', 'best supporting actor ', 'best supporting actor ', 'best supporting actor', 'best miniseries', 'best supporting actress ', 'best supporting actor', 'best supporting actor', 'best mini series or tv movie', 'best supporting actor', 'best miniseries or tv movie', 'best mini series or tv movie', 'best mini series or motion picture ', 'best mini series or tv movie', 'best supporting actor', 'best mini series tv movie', 'best supporting actress in a tv show everyone playing tina and amy', 'best tv movie', 'best mini series what a deserving win', 'best miniseries', 'best mini series or tv movie', 'best tv mini series drama', 'best tv movie mini series definitely not surprised', 'best tv movie', 'best mini series or tv movie', 'best mini series or tv movie', 'best supporting actor', 'best mini series or tv movie', 'best supporting actor ', 'best supporting actor', 'best supporting actress in a tv show everyone playing tina and amy', 'best mini series or tv movie', 'best tv movie et has all ', 'best supporting actress ', 'best supporting actor', 'best tv miniseries movie jay roach gets in ', 'best mini series or tv movie category', 'best supporting actor', 'best actress in tv movie', 'best supporting actor ', 'best picture over lincoln i m honestly going to kill someone', 'best actress in a miniseries or tv movie', 'best actress in a mini series or tv movie ', 'best director', 'best actress in a miniseries or motion picture ', 'best actress ', 'best actress in a tv series ', 'best actress in mini series or tv movie ', 'best supporting actor', 'best actress in a tv movie ', 'best actress ', 'best supporting actor ', 'best actress in a mini series or tv movie ', 'best actress in a miniseries or motion picture ', 'best supporting actress ', 'best actress in a mini series or tv movie', 'best supporting actor', 'best actress in a mini series or tv movie ', 'best supporting actor ', 'best tv mini series drama', 'best actress in a miniseries or motion picture ', 'best life well deserved', 'best supporting actor ', 'best actress in a mini series or tv movie ', 'best tv actress ', 'best tv movie wonder what sarah palin thinks', 'best mini series or tv movie', 'best actress in miniseries tv movie and first person to give a shout out', 'best actress in miniseries tv movie and first person to give a shout out', 'best facial hair of ', 'best director', 'best actress in miniseries tv movie and first person to give a shout out', 'best per', 'best tv movie', 'best supporting actor ', 'best supporting actor ', 'best actress in a miniseries ', 'best tux of ', 'best actress in a mini series or tv movie ', 'best mini series or tv movie', 'best supporting actor ', 'best actress in a miniseries or motion picture ', 'best actress in mini series tv movie ', 'best supporting actor ', 'best actress in mini series', 'best supporting actor ', 'best supporting actor', 'best actress in mini series tv movie ', 'best supporting actor', 'best actress in mini series tv movie ', 'best actress in miniseries tv movie and first person to give a shout out', 'best actress ', 'best supporting actor ', 'best supporting actor ', 'best actor tv series or drama his first win 3rd nom', 'best actress in a tv miniseries or movie', 'best actor ', 'best actor in a tv show i disagree', 'best actor tv series or drama ', 'best actor tv series drama', 'best actor in a tv series ', 'best actor ', 'best actress in a mini series or tv movie', 'best actor in a tv drama ', 'best actor ', 'best actor ', 'best supporting actor', 'best actor ', 'best actor in a drama tv', 'best actor ', 'best actor ', 'best actor ', 'best actor tv series ', 'best actor in a tv drama ', 'best supporting actor ', 'best drama', 'best tv series drama', 'best television series drama', 'best tv drama', 'best show on ', 'best tv drama', 'best drama tv mandy patinkin is pleased claire danes is probably crying', 'best actor tv series or drama his first win 3rd nom', 'best tv drama', 'best tv drama', 'best television series drama', 'best series brody is british', 'best actor in a tv series drama', 'best tv drama', 'best drama definitely a lot of deserving nominees this year', 'best tv drama', 'best television series drama', 'best tv drama', 'best drama and best lead actor here too an emmy and a ', 'best tv drama', 'best actor in a tv drama ', 'best tv drama', 'best tv series drama', 'best tv drama series', 'best tv drama series', 'best drama ', 'best tv drama much much deserved', 'best actress and first person to give a shout out', 'best television series drama', 'best tv series drama', 'best actor in a drama', 'best tv series ', 'best actor in a tv drama series ', 'best tv drama really wanted breaking bad to win oh well', 'best actor tv series drama ', 'best drama series', 'best drama', 'best tv series drama', 'best actress and first person to give a shout out', 'best telelvision series', 'best supporting actor ', 'best actor in tv series drama ', 'best supporting actor ', 'best actor and best drama series check out our running ', 'best tv series drama', 'best drama', 'best drama', 'best drama', 'best drama', 'best actress in mini series tv movie ', 'best drama', 'best drama', 'best dress i hope she wins ', 'best drama', 'best drama', 'best drama', 'best drama', 'best drama', 'best drama', 'best drama', 'best actor in a drama', 'best drama', 'best actress and first person to give a shout out', 'best tv series drama my choice too damn ', 'best tv drama', 'best supporting actor ', 'best drama', 'best tv series drama', 'best drama', 'best drama', 'best supporting actor ', 'best drama', 'best tv series drama', 'best picture due to a typo', 'best original score motion picture', 'best drama', 'best score', 'best tv series ', 'best drama', 'best facial hair of ', 'best score poor cloud', 'best original score', 'best original score', 'best score ', 'best original score sure why not', 'best original score ', 'best supporting actor ', 'best soundtrack score ', 'best supporting actor ', 'best supporting actor ', 'best supporting actor ', 'best original score', 'best drama', 'best original score', 'best score adele takes best song ', 'best original song motion picture', 'best song', 'best original song ', 'best original song ', 'best original song awesome song', 'best song ', 'best original song ', 'best original song ', 'best original song ', 'best bond song ever', 'best original song ', 'best song unsurprisingly seriously adele should sing ', 'best original song ', 'best original song', 'best original song ', 'best song ', 'best original song ', 'best original song write a song about it t swift', 'best original song ', 'best original song motion picture', 'best original song ', 'best original song', 'best song in movie', 'best song', 'best song', 'best original song ', 'best original song ', 'best original song ', 'best original song ', 'best song', 'best original song ', 'best original song ', 'best original song best moment ever', 'best song ', 'best original song ', 'best song unsurprisingly', 'best original song ', 'best original song such an amazing song', 'best original song in a motion picture', 'best original song in a motion picture', 'best supportin actor', 'best original song ', 'best song unsurprisingly seriously adele should sing ', 'best original song ', 'best song unsurprisingly seriously adele should sing ', 'best song unsurprisingly seriously adele should sing ', 'best original song ', 'best tv series drama', 'best original song ', 'best drama', 'best original song ', 'best song', 'best original song ', 'best song gt lt we love you adele', 'best original song ', 'best original song ', 'best song unsurprisingly', 'best original song ', 'best song', 'best original song ', 'best original song in a motion picture', 'best director', 'best drama series ', 'best tv drama', 'best song', 'best song ', 'best original song in a motion picture', 'best tv movie', 'best original song ', 'best original song ', 'best original song ', 'best original song ', 'best original song ', 'best song unsurprisingly seriously adele should sing ', 'best supporting actress ', 'best original score', 'best original song ', 'best original song in a motion picture', 'best original song ', 'best original song in a motion picture ', 'best original song in a motion picture ', 'best original song in a motion picture ', 'best original song', 'best tv series drama', 'best song unsurprisingly seriously adele should sing ', 'best original song ', 'best original song ', 'best acceptance speech', 'bests original beard', 'best original song', 'best original song', 'best original song', 'best song love to a class act w a voice from ano', 'best original song', 'best original song', 'best original song ', 'best original song ', 'best original song ', 'best original song ', 'best original song', 'best original song', 'best original song ', 'best original song ', 'best original song ', 'best original song ', 'best supporting actor ', 'best original song', 'best supporting actor ', 'best original song in a motion picture', 'best supporting actor ', 'best original song', 'best original song ', 'best someone will get pissed', 'best original song', 'best actor in a miniseries or motion picture ', 'best original song ', 'best animation ', 'best thank you speech so far lolol', 'best actor in a mini series tv movie', 'best drama', 'best original song', 'best actor tv movie or mini and he could care less', 'best actor mini series tv movie', 'best song skyfall a well deserved win', 'best song unsurprisingly', 'best actor tv movie or mini and he could care less', 'best actor in miniseries ', 'best original song in a motion picture', 'best actor tv movie or mini and he could care less', 'best original song', 'best actor in a mini series tv movie', 'best song ', 'best actor in a mini series tv movie', 'best actor ', 'best actor in miniseries ', 'best actor ', 'best actor ', 'best actor in a miniseries or motion picture ', 'best actor ', 'best actor ', 'best actor miniseries ', 'best original song ', 'best actor ', 'best actor in miniseries ', 'best original song ', 'best heist of her mo', 'best actor ', 'best actor in a miniseries or motion picture ', 'best song and here', 'best original song in ', 'best tv series drama', 'best song and here', 'best actor ', 'best reaction to pimp billy ', 'best original song ', 'best actor in a miniseries ', 'best picture and ddl wins best actor', 'best actor tv series or drama his first win 3rd nom', 'best actor in a drama series', 'best actor in a mini series tv movie', 'best actor ', 'best actor ', 'best actor in a mini series tv movie', 'best pic you don t drag clinton out of somebody', 'best actor in a mini series tv movie', 'best actress in mini series tv movie ', 'best supporting actor', 'best presenter of any award', 'best song and here', 'best song unsurprisingly seriously adele should sing ', 'best supporting actor ', 'best actor ', 'best actor ', 'best actress in comedy musical ', 'best actress in a motion picture comedy ', 'best actress in a comedy ', 'best actress in a comedy ', 'best actress motion picture comedy or musical', 'best actress in a comedy or musical movie ', 'best actress motion picture comedy or musical ', 'best actress motion picture comedy or musical', 'best actress motion picture comedy or musical', 'best actress in a comedy or musical hmm jessica chastain might not have a lock on oscar', 'best actress motion picture comedy or musical ', 'best actress in a motion picture', 'best actress in a comedy ', 'best actress in a comedy musical ', 'best actress motion picture comedy or musical ', 'best actress in a musical comedy ', 'best actress in a comedy or musical ', 'best actress in a comedy or musical ', 'best actress in a comedy ', 'best actress in a comedy or musical movie ', 'best actress', 'best actress motion picture comedy or musical ', 'best actress motion picture comedy or musical ', 'best original song motion picture', 'best actress motion picture comedy or musical ', 'best actress motion picture comedy or musical ', 'best actress in comedy or musical in film heard mixed reviews on silver lingings playbook as a ', 'best actress motion picture comedy or musical ', 'best actress makes sassy i beat meryl joke that doesn t seem to sit well', 'best actress in a comedy or musical movie ', 'best actress in a comedy or musical movie ', 'best actress makes sassy i beat meryl joke that doesn t seem to sit well', 'best new actor', 'best actress in a comedy ', 'best actress in a musical comedy ', 'best actress in a comedy ', 'best actress in musical or comedy', 'best actress', 'best actress in a musical comedy ', 'best actress', 'best actress', 'best actress in a comedy or musical movie ', 'best actress comedy', 'best original song while taylor swift gives her stank eye omg omg', 'best actress ', 'best actress motion picture comedy or musical ', 'best actress in a comedy musical ', 'best actress in a comedy or musical movie ', 'best actress', 'best actress', 'best actress ', 'best actress in a comedy or musical movie ', 'best original song while taylor swift gives her stank eye omg omg that', 'best original song while taylor swift gives her stank eye o', 'best actress ', 'best original song ', 'best actress in a comedy or musical movie ', 'best actress', 'best actress in a comedy', 'best actress', 'best actress in a comedy or musical', 'best actress makes sassy i beat meryl joke that doesn t seem to sit well', 'best actress in a musical comedy ', 'best actress motion picture comedy or musical ', 'best actress in musical or comedy', 'best actress motion picture ', 'best actress in musical or comedy', 'best original song ', 'best supporting actor ', 'best actress in a comedy or musical movie ', 'best actress', 'best drama', 'best actress ', 'best actress ', 'best actress ', 'best supporting actor tv', 'best actress', 'best actress', 'best actress in musical or comedy', 'best actor ', 'best actress comedy musical first win of ', 'best supporting actor tv movie ', 'best actress in a comedy musical ', 'best actress in mini series tv movie ', 'best actress', 'best original song', 'best actress', 'best actress in musical or comedy', 'best supporting actor ', 'best tv drama', 'best supporting actress ', 'best supporting actress ', 'best supporting actress ', 'best supporting actress haters to ', 'best supporting actress ', 'best peter pan haircut', 'best supporting actress ', 'best original song', 'best supporting actress ', 'best supporting actress', 'best supporting actress ', 'best supporting actress ', 'best supporting actress ', 'best supporting actress ', 'best supporting actress ', 'best actress ', 'best supporting actress ', 'best supporting actor ', 'best', 'best supporting actress ', 'best supporting actress ', 'best original song ', 'best actress in musical or comedy', 'best supporting actress ', 'best supporting actress ', 'best supporting actress in a motion picture ', 'best supporting actress in a motion picture ', 'best supporting actress', 'best supporting actress in a motion picture ', 'best actress motion picture comedy or musical ', 'best supporting actress in a motion picture ', 'best actress in a supporting role in a motion picture ', 'best supporting actress ', 'best supporting actress', 'best supporting actress in a motion picture ', 'best supporting actress', 'best supporting actress', 'best supporting actress', 'best supporting actress ', 'best supporting actress ', 'best supporting actress in a motion picture les miserables', 'best supporting actress ', 'best supporting actress', 'best supporting actress', 'best supporting actress ', 'best actress in a drama', 'best supporting actress in a motion picture ', 'best supporting actress', 'best actress', 'best original song in a motion picture life of pi michael danna wins best original score', 'best supporting actress in a motion picture ', 'best actress in a supporting role in a motion picture ', 'best actress in a drama', 'best supporting actress', 'best actress', 'best actress in a musical or comedy ', 'best supporting actress ', 'best actress in a motion picture comedy ', 'best supporting actress', 'best supporting actor', 'best actress in a supporting role in a motion picture ', 'best supporting actor in a series or tv movie', 'best supporting actress', 'best supporting actress in a motion picture ', 'best actress in a drama', 'best supporting actress in a motion picture ', 'best supporting actress ', 'best actor in a tv miniseries movie', 'best supporting actress ', 'best supporting actor in a series i like ed harris ', 'best actress in a drama', 'best director on ', 'best actress in a drama', 'best supporting actress', 'best supporting actress', 'best supporting actress', 'best supporting actress', 'best supporting actress', 'best supporting actress', 'best supporting actress', 'best actress in a comedy or musical movie ', 'best actress in a motion picture musical or comedy', 'best actress in a comedy or musical movie ', 'best actress motion picture comedy or musical', 'best supporting actress', 'best supporting actress', 'best supporting actress', 'best actress in a musical or comedy ', 'best actress in a drama', 'best actor ', 'best supporting actress', 'best supporting actress', 'best supporting actress', 'best supporting actress', 'best supporting actress ', 'best actress comedy musical ', 'best supporting actress', 'best actress in a drama', 'best original song ', 'best supporting actress', 'best actress in a musical or comedy ', 'best actor miniseries and is currently telling movie studios to suck it mentally ', 'best supporting actress ', 'best actress in a musical or comedy ', 'best supporting actress', 'best supporting actress', 'best actress', 'best supporting actress', 'best supporting actress', 'best supporting actress in a motion picture ', 'best supporting actress ', 'best supporting actress', 'best song and here', 'best tv series drama', 'best supporting actress', 'best supporting actress in a motion picture', 'best supporting actress ', 'best supporting actress', 'best supporting actress', 'best actress in a drama', 'best supporting actress in a motion picture ', 'best supporting actress', 'best supporting actress stunning', 'best supporting actress', 'best actress in a musical or comedy ', 'best actress', 'best supporting actress ', 'best actress in a drama', 'best original song in a motion picture', 'best supporting actress', 'best supporting actress xd', 'best screenplay ', 'best supporting actress', 'best supporting actress', 'best screenplay motion picture', 'best screenplay very well deserved he', 'best motion picture screenplay ', 'best supporting actress well deserved we love ', 'best screenplay', 'best screenplay ', 'best screenplay motion picture', 'best actress motion picture comedy or musical', 'best screenplay', 'best director motion picture ', 'best screenplay well deserved', 'best screenplay motion picture', 'best actress in a musical or comedy ', 'best motion picture screenplay ', 'best screenplay', 'best supporting actress', 'best motion picture screenplay ', 'best screenplay ', 'best screenplay', 'best supporting actress ', 'best motion picture screenplay ', 'best screenplay finally', 'best supporting actress via', 'best original screenplay ', 'best screenplay', 'best motion picture screenplay ', 'best original screenplay', 'best supporting actress in a motion picture ', 'best screenplay motion picture', 'best supporting actress', 'best supporting actress', 'best supporting actress', 'best original song', 'best motion picture screenplay ', 'best actor in a miniseries ', 'best screenplay motion picture', 'best supporting actress', 'best supporting actress', 'best supporting actress ', 'best actress in a supporting role in a motion picture ', 'best screenplay called it', 'best director', 'best actress in a supporting role in a motion picture ', 'best screenplay of course c', 'best motion picture screenplay ', 'best actor in a tv comedy musical', 'best supporting actress', 'best actor in a tv comedy musical', 'best actor in tv series comedy or musical', 'best actor in a comedy or musical tv series ', 'best actor in a television series comedy or musical ', 'best screenplay', 'best tv musical or comedy ', 'best supporting actress', 'best actress', 'best supporting actress', 'best actor in a television series comedy or musical ', 'best actress motion picture comedy or musical', 'best actor in a television series comedy or musical ', 'best comedy musical actor', 'best motion picture screenplay ', 'best screenplay ', 'best actor in a tv series comedy', 'best screenplay ', 'best actor in a comedy or musical tv series ', 'best actor in a comedy or musical tv series ', 'best supporting actress ', 'best screenplay ', 'best actor in a comedy or musical tv series ', 'best actor tv comedy award ', 'best actor in a comedy or musical tv series ', 'best actor comedy and ', 'best actor in a comedy or musical tv series ', 'best motion picture screenplay ', 'best screenplay ', 'best screenplay ', 'best actor in a comedy or musical tv series ', 'best tv drama ', 'best tv drama ', 'best supporting actress ', 'best supporting actress', 'best screenplay ', 'best actor in a comedy or musical tv series ', 'best actress ', 'best actor in a comedy or musical tv series ', 'best original screenplay i missed his speech', 'best actress in a musical or comedy ', 'best actor in a comedy or musical tv series ', 'best actor in a comedy or musical tv series ', 'best actress motion picture comedy or musical ', 'best original screenplay ', 'best actress in a musical or comedy ', 'best actor in a mini series tv movie', 'best per', 'best actor in a television series comedy or musical ', 'best screenplay motion picture', 'best supporting actress', 'best actor in a comedy or musical tv series ', 'best original song goes to skyfall via', 'best actor in a comedy', 'best screenplay last won ', 'best screenplay ', 'best ', 'best ', 'best actor in tv series 4 house of lies', 'best ', 'best actor in a television series comedy or musical 4 his role on house of lies congrats', 'best motion picture screenplay ', 'best original song ', 'best motion picture screenplay ', 'best motion picture screenplay ', 'best ', 'best ', 'best ', 'best ', 'best actress', 'best supporting actress in a motion picture ', 'best ', 'best ', 'best ', 'best screenplay ', 'best original song ', 'best ', 'best original song goes to skyfall via', 'best per', 'best actress in a tv series drama ', 'best actress in a tv drama', 'best actress in a tv series drama', 'best actress ', 'best supporting actor ', 'best ', 'best actress ', 'best ', 'best drama tv actress ', 'best actress ', 'best actress tv drama ', 'best per', 'best actress tv series drama ', 'best actress in drama', 'best actress in a tv series drama', 'best actress in a drama ', 'best actess in a tv series drama now i m inspired to watch', 'best actress in a tv series drama via', 'best actress in a tv series drama ', 'best original song', 'best original song ', 'best actress', 'best actress ', 'best actress ', 'best original song ', 'best actress in tv drama ', 'best supporting actress in a motion picture ', 'best actress ', 'best actress', 'best actress in a tv series drama of course', 'best screenplay', 'best actress in tv drama ', 'best actress in tv drama ', 'best actress ', 'best supporting actress', 'best actress in tv drama ', 'best tv actor comedy tarantino wins screenplay award jennifer lawrence', 'best actress in a drama', 'best actress in a tv series drama ', 'best actor in a comedy or musical tv series ', 'best actress in tv drama ', 'best tv actor comedy tarantino wins screenplay award jennifer lawrence', 'best screenplay ', 'best supporting actress ', 'best actress in tv drama rubs in her win', 'best actress in a television series drama ', 'best actress in tv drama rubs in her win', 'best actress in tv drama rubs in her win', 'best actress in tv drama rubs in her win', 'best supporting actress in a motion picture ', 'best actress in a tv series drama', 'best actress in tv drama rubs in her win', 'best original song in a motion picture ', 'best actress in a tv miniseries or motion picture', 'best actress', 'best actress in tv drama rubs in her win', 'best tv series drama', 'best actress tv drama i want to thank ', 'best tv series drama', 'best song ', 'best song ', 'best song ', 'best song ', 'best actress in tv drama rubs in her win', 'best tv drama actress ', 'best actress', 'best actress in tv drama rubs in her win', 'best actress in tv drama rubs in her win', 'best actress in a drama television series', 'best actress in tv drama ', 'best actress ', 'best actress drama ', 'best actress in tv drama rubs in her win', 'best actress in tv drama rubs in her win', 'best actress ', 'best actress in tv drama ', 'best supporting actress', 'best actress in tv drama rubs in her win', 'best song ', 'best original song ', 'best song ', 'best animated feature', 'best animated feature d', 'best animated feature because y know star fuckery', 'best animated feature film', 'best animated feature film', 'best animated film', 'best animated film', 'best supporting actress in a motion picture', 'best animated feature', 'best actress in tv drama rubs in her win', 'best original song ', 'best animated feature', 'best actress tv series calls nominees in category brilliant', 'best actress in tv drama rubs in her win', 'best animated feature yay princess merida lt 3', 'best animated film', 'best ', 'best screenplay motion picture', 'best actress in a drama series', 'best animated feature film', 'best screenplay', 'best animated feature film love it', 'best animated film great year ', 'best animated feature film via', 'best actress in tv drama rubs in her win', 'best animated cc', 'best actress in tv drama rubs in her win', 'best animated film', 'best animated feature film via', 'best animated film', 'best animated film great year ', 'best animated film', 'best screenplay ', 'best supporting actress ', 'best animated feature', 'best animated feature', 'best actress in a drama series', 'best actress in a drama series', 'best animated feature film we kinda wished it was wreck it ralph', 'best actor and actress respectively in drama series', 'best animated film great year ', 'best animated feature film via', 'best animated film great year ', 'best actress', 'best animated feature film', 'best actress in tv drama rubs in her win', 'best animated movie', 'best animated feature film gt kok brave', 'best animated feature film wreck it ralph was a better movie', 'best animated film', 'best original song in a motion picture', 'best animated feature film wreck it ralph was a better movie', 'best actress in a tv series comedy or musical ', 'best animated feature', 'best actress in a comedy', 'best animated film woot ', 'best animated feature film via', 'best actress in a tv series comedy or musical', 'best actress in a tv series comedy or musical', 'best animated feature film wreck it ralph was a better movie', 'best actress in a tv series comedy or musical', 'best actress in a tv series comedy or musical', 'best supporting actress', 'best actress in a tv series comedy or musical', 'best per', 'best actress in a drama series', 'best actress ', 'best actress in a television series love love girls', 'best per', 'best actress in a tv series comedy musical thanks to girls hopefully feels better now', 'best animated feature film via i love this movie congrats', 'best animated feature film via', 'best animated feature', 'best tv comedy actress', 'best tv actress in a comedy from girls', 'best director', 'best animated feature film wreck it ralph was a better movie', 'best actress ', 'best actress in a mini series or tv movie ', 'best actress in tv drama rubs in her win', 'best per', 'best director ', 'best animated film', 'best actress in a comedy ', 'best actress in a comedy tv series comedy or musical ', 'best animated cc', 'best animated film', 'best actress in a tv series comedy or musical ', 'best actress motion picture comedy or musical', 'best song ', 'best actress in a musical or comedy ', 'best animated film', 'best animated feature', 'best actress in tv drama rubs in her win', 'best per', 'best supporting actress', 'best per', 'best actress in tv', 'best animated film', 'best animated film', 'best actress motion picture comedy or musical', 'best actress in a comedy ', 'best actor in a tv movie', 'best actor in a tv movie', 'best tv drama actress ', 'bestsupporting actress in a motion picture d hell cropped ts pic', 'best actress ', 'best animated film', 'best original score ', 'best supporting actress ', 'best per', 'best actress in a drama series', 'best tv series actress comedy or musical ', 'best cleavage award', 'best actress in a comedy series yay', 'best actress in a comedy series', 'best actress in a comedy series', 'best actress', 'best animated feature film', 'best actress in a comedy series', 'best actress in a comedy series', 'best song watch her funny gracious speech', 'best actress in a comedy series', 'best screenplay ', 'best actress in miniseries tv movie and first person to give a shout out', 'best actress in a comedy series', 'best original song', 'best actress in a musical comedy ', 'best animated feature film via', 'best actress in a comedy series', 'best animated film', 'best supporting actor ', 'best actress in a drama series', 'best original song ', 'best screenplay ', 'best supporting actress', 'best animated film', 'best actress ', 'best television series drama yes', 'best song ', 'best actress ', 'best actress in tv drama rubs in her win', 'best tv comedy actress', 'best supporting actress', 'best original song', 'best ', 'best screenplay ', 'best actor in a tv series ', 'best director ', 'best director', 'best animated feature film', 'best actress in a tv series', 'best director ', 'best animated feature film via', 'best film director ', 'best director ', 'best director ', 'best director ', 'best film director ', 'best film director ', 'best director ', 'best director ', 'best director spielberg cries i brought you clinton', 'best director ', 'best director ', 'best director', 'best director ', 'best director ', 'best director ', 'best director ', 'best director ', 'best director', 'best director ', 'best director ', 'best director ', 'best director ', 'best film director ', 'best director and a standing ovation', 'best director and he looks like he', 'best director ', 'best director can t wait to see him on oscar night when oh', 'best director ', 'best actress in a comedy series', 'best director ', 'best film director ', 'best director', 'best director motion picture ', 'best director ', 'best recovery from a j lo relationship', 'best director ', 'best director ', 'best director ', 'best director ', 'best director ', 'best director motion picture ', 'best director ', 'best director ', 'best director ', 'best director ', 'best actress in a comedy series', 'best director', 'best director and a standing ovation', 'best director', 'best director ', 'best director and a standing ovation', 'best director ', 'best director ', 'best film director ', 'best director and a standing ovation', 'best film director ', 'best film director ', 'best film director ', 'best ', 'best director ', 'best director soo hott he', 'best actor', 'best director ', 'best director aka ', 'best director and a standing ovation', 'best film director ', 'best director and a standing ovation', 'best director and a standing ovation', 'best director ', 'best film director ', 'best director', 'best director he wins we all win ben affleck yezzzzzzzz', 'best director ', 'best director', 'best tv series comedy or musical', 'best tv series comedy or musical', 'best comedy yaaaaaaaay', 'best comedy', 'best tv series comedy or musical', 'best director ', 'best comedy really digging this show', 'best comedy', 'best director ', 'best tv series comedy or musical', 'best musical or comedy', 'best director ', 'best director ', 'best comedy congrats leena cc happy', 'best tv series comedy or musical', 'best director and a standing ovation', 'best television show musical comedy congrats xoxoxoxo', 'best comedy series so happy ', 'best television series comedy or misical', 'best director', 'best director', 'best tv series comedy or musical', 'best tv series comedy or musical', 'best director ', 'best comedy series paul rudd does not seem thrilled ', 'best comedy series paul rudd does not seem thrilled ', 'best director award ', 'best director', 'best comedy series paul rudd does not seem thrilled ', 'best tv series comedy or musical', 'best comedy series paul rudd does not seem thrilled ', 'best tv series comedy or musical', 'best comedy series paul rudd does not seem thrilled ', 'best comedy series paul rudd does not seem thrilled ', 'best film director ', 'best director ', 'best director ', 'best director now where', 'best director ', 'best comedy series paul rudd does not seem thrilled ', 'best tv comedy series', 'best comedy series paul rudd does not seem thrilled ', 'best tv comedy series', 'best actor', 'best director', 'best tv series', 'best comedy and ', 'best animated feature will be happy', 'best comedy series in a ', 'best actor in a tv movie', 'best drama tv series ', 'best film director ', 'best ', 'best song', 'best director and a standing ovation', 'best director prize gives nice kiss to his wife aw live blog', 'best tv series musical or comedy', 'best comedy series paul rudd does not seem thrilled ', 'best director ', 'best tv comedy', 'best tv comedy', 'best comedy', 'best comedy series paul rudd does not seem thrilled ', 'best director ', 'best comedy tv series more', 'best song ', 'best original score', 'best director ', 'best actress motion picture comedy or musical', 'best actress in a comedy ', 'best tv series musical or comedy', 'best actress in a comedy ', 'best director', 'best best television comedy musical series', 'best tv series musical or comedy', 'best best television comedy musical series', 'best best television comedy musical series', 'best best television comedy musical series', 'best director prize gives nice kiss to his wife aw live blog', 'best tv series', 'best tv comedy ', 'best ', 'best director aka ', 'best actress tv drama making it a bit of a clean sweep ', 'best comedy series', 'best director ', 'best actor in a motion picture musical or comedy ', 'best actor musical comedy ', 'best best television comedy musical series', 'best actor ', 'best actor ', 'best actor comedy musical ', 'best actress in a drama series', 'best actor movie comedy or musical sing talk to me hugh', 'best actor ', 'best actor comedy or musical', 'best actor in a comedy musical ', 'best song', 'best comedy series paul rudd does not seem thrilled ', 'best actor motion picture ', 'best actor comedy or musical he did not get a flu shot do not take hugh', 'best actor musical comedy ', 'best actor in a motion picture comedy or musical', 'best song', 'best comedy series', 'best actor comedy or musical ', 'best song', 'best ', 'best actor in a motion picture comedy or musical ', 'best actor in a comedy or musical looking dapper as ever', 'best actor in a motion picture comedy or musical ', 'best comedy or musical tv series', 'best actor ', 'best actor ', 'best actor in a motion picture comedy or musical ', 'best actor in a comedy or musical congrats hugh jackman', 'best actor in a motion picture comedy or musical ', 'best actor comedy or musical ', 'best actor in a motion picture comedy or musical ', 'best tv actress comedy', 'best comedy series paul rudd does not seem thrilled ', 'best actor ', 'best actor in a motion picture comedy or musical ', 'best actor in a motion picture comedy or musical ', 'best actor in a motion picture comedy or musical ', 'best director ', 'best actor in musical or comedy ', 'best actor in a motion picture comedy or musical ', 'best actor in a comedy or musical congrats hugh jackman', 'best actor in a comedy or musical congrats hugh jackman', 'best actor ', 'best actor ', 'best actor in a motion picture comedy or musical ', 'best actor in a motion picture comedy or musical ', 'best actor ', 'best actor in a motion picture comedy or musical ', 'best screenplay motion picture', 'best motion picture', 'best director ', 'best actor ', 'best actor ', 'best actor in a motion picture comedy or musical ', 'best husband of ', 'best actor in a motion picture comedy or musical ', 'best director motion picture ', 'best per', 'best actor in a comedy or musical congrats hugh jackman', 'best actor in a motion picture comedy or musical ', 'best director', 'best song', 'best director', 'best ', 'best motion picture old navy commercial', 'best actor in a motion picture comedy or musical ', 'best animated film', 'best actor musical comedy ', 'best screenplay ', 'best song', 'best song', 'best song', 'best actress in a tv series comedy series', 'best comedy series paul rudd does not seem thrilled ', 'best best television comedy musical series', 'best ', 'best director motion picture ', 'best comedy or musical tv series', 'best actor ', 'best actor ', 'best actor big win', 'best director and a standing ovation', 'best actor in a motion picture comedy or musical ', 'best actor in a motion picture comedy or musical ', 'best actor in a motion picture comedy or musical ', 'best actor ', 'best husband', 'best song', 'best actor ', 'best actor ', 'best actor in comedy or musical ', 'best actor in a motion picture comedy or musical ', 'best actor in a comedy or musical congrats hugh jackman', 'best director ', 'best song', 'best actor in a motion picture comedy or musical ', 'best picture', 'best actress i m going to get a cheeseburger and pinkberry if she doesn t win i m getting a soup and salad', 'best comedy or musical tv series', 'best actor in a motion picture comedy or musical ', 'best actor in a motion picture comedy or musical ', 'best song', 'best actor i won t kill ', 'best actor ', 'best actor in a motion picture comedy or musical ', 'best actor in a motion picture comedy or musical ', 'best actor in a comedy or musical congrats hugh jackman', 'best actor in a comedy or musical congrats hugh jackman', 'best supporting actress', 'best song', 'best actor in a motion picture comedy or musical ', 'best original score ', 'best actor in a film ', 'best actress in a comedy series', 'best actor in a motion picture comedy or musical ', 'best comedy or musical tv series', 'best actor', 'best actress ', 'best motion picture comedy or musical', 'best actor his per', 'best motion picture comedy or musical congrats to ', 'best animated feature film via', 'best motion picture comedy or musical congrats to ', 'best comedy or musical', 'best comedy musical film', 'best motion picture comedy or musical congrats to ', 'best comedy musical', 'best motion picture comedy or musical congrats to ', 'best picture ', 'best motion picture', 'best director ', 'best musical of comedy yay', 'best picture of ', 'best actor in a motion picture comedy or musical ', 'best motion picture comedy or musical congrats to ', 'best motion picture comedy or musical congrats to ', 'best director', 'best picture great', 'best motion picture comedy or musical congrats to ', 'best actor', 'best motion picture', 'best motion picture comedy or musical congrats to ', 'best actor in a comedy or musical congrats hugh jackman', 'best motion picture musical or comedy', 'best motion picture comedy or musical bring on friday', 'best picture is cats going to be next', 'best comedy musical', 'best picture musical comedy making me 14 8', 'best comedy musical', 'best picture comedy musical fuck my life', 'best actor in a motion picture comedy or musical ', 'best animated feature after michael haneke and', 'best comedy series', 'best movie comedy or musical', 'best actor in a motion picture comedy or musical ', 'best actor in a comedy or musical congrats hugh jackman', 'best musical comedy ', 'best comedy', 'best motion picture comedy or musical congrats to ', 'best motion picture comedy or musical congrats to ', 'best motion picture musical or comedy', 'best actor ', 'best husband of ', 'best motion picture comedy or musical', 'best actor in a miniseries or motion picture ', 'best motion picture comedy or musical congrats to ', 'best motion picture musical or comedy', 'best motion picture comedy or musical congrats to ', 'best comedy musical', 'best motion picture musical or comedy', 'best motion picture musical or comedy', 'best actor', 'best picture comedy or musical', 'best motion picture musical or comedy', 'best picture comedy or musical', 'best motion picture comedy or musical congrats to ', 'best actor', 'best picture comedy musical', 'best motion picture musical or comedy', 'best actor in a motion picture comedy or musical ', 'best motion picture comedy or musical congrats to ', 'best motion picture comedy or musical congrats to ', 'best motion picture comedy or musical congrats to ', 'best picture comedy or musical', 'best motion picture comedy or musical', 'best actor', 'best comedy or musical', 'best motion picture comedy or musical', 'best motion picture comedy or musical', 'best motion picture comedy or musical', 'best or musical anne hathaway grabs ', 'best actor', 'best motion picture comedy or musical congrats to ', 'best motion picture comedy or musical', 'best motion picture musical or comedy', 'best motion picture musical or comedy', 'best picture comedy or musical have to see it', 'best motion picture comedy or musical great and powerful movie well deserved crying again', 'best actor', 'best ', 'best actor', 'best comedy musical', 'best motion picture musical or comedy', 'best actress in a comedy ', 'best actor', 'best picture comedy or musical', 'best motion picture comedy or musical', 'best director ', 'best motion picture musical or comedy', 'best motion picture musical or comedy', 'best motion picture ', 'best motion picture comedy musical rigged bought', 'best picture', 'best actor in a motion picture comedy or musical ', 'best motion picture comedy or musical congrats to ', 'best motion picture musical or comedy', 'best motion picture musical or comedy', 'best comedy musical', 'best actor in a motion picture comedy or musical ', 'best comedy musical', 'best motion picture', 'best actor', 'best picture comedy musical do you hear ', 'best motion picture musical or comedy yesssssss', 'best actor', 'best actor musical comedy ', 'best picture i could see it 100 times glorious movie and musical', 'best comedy musical', 'best motion picture ', 'best ', 'best picture won ', 'best motion picture musical or comedy', 'best comedy or musicial did you see ', 'best motion picture comedy or musical', 'best motion picture comedy or musical', 'best actress ', 'best actress ', 'best actress ', 'best motion picture comedy or musical', 'best actress ', 'best motion picture comedy or musical', 'best song ', 'best motion picture comedy or musical', 'best motion picture comedy or musical', 'best actor ', 'best motion picture', 'best motion picture comedy or musical congrats to ', 'best comedy musical', 'best actor amp takes best musical comedy good night', 'best comedy musical', 'best picture musical or comedy', 'best motion picture musical or comedy', 'best actor in a motion picture comedy or musical ', 'best motion picture comedy or musical', 'best motion picture comedy or musical congrats to ', 'best motion picture comedy or musical', 'best picture musical or comedy', 'best picture comedy or musical good call afp good call', 'best picture musical or comedy', 'best picture musical or comedy', 'best motion picture comedy or musical', 'best motion picture comedy or musical congrats to ', 'best picture musical or comedy', 'best motion picture musical or comedy', 'best motion picture comedy or musical congrats to ', 'best song', 'best picture musical or comedy', 'best picture musical or comedy', 'best song', 'best song', 'best song', 'best song', 'best motion picture comedy or musical', 'best song', 'best picture musical or comedy', 'best motion picture comedy or musical', 'best motion picture comedy or musical', 'best motion picture comedy or musical', 'best picture musical or comedy', 'best picture musical or comedy', 'best actor ', 'best picture musical or comedy', 'best actor in a motion picture comedy or musical ', 'best motion picture comedy or musical', 'best actor in a motion picture comedy or musical ', 'best actor ', 'best motion picture comedy or musical congrats to ', 'best picture musical or comedy', 'best director', 'best picture musical or comedy', 'best motion picture comedy or musical', 'best comedy or musical tv series', 'best motion picture comedy or musical congrats to ', 'best motion picture comedy or musical congrats to ', 'best director ', 'best motion picture comedy or musical', 'best motion picture comedy or musical', 'best actor', 'best song ', 'best ', 'best tv comedy', 'best ', 'best ', 'best motion picture comedy or musical', 'best motion picture comedy or musical', 'best director ', 'best picture musical or comedy', 'best musical or comedy', 'best picture musical or comedy', 'best picture musical or comedy', 'best picture musical or comedy', 'best original song via', 'best motion picture', 'best director ', 'best actor', 'best motion picture comedy or musical', 'best actress drama', 'best motion picture comedy or musical', 'best actress in motion picture drama', 'best motion picture musical or comedy', 'best actor in a motion picture comedy or musical ', 'best motion picture comedy or musical', 'best actress in a dramatic film ', 'best picture comedy or musical', 'best actress ', 'best actress in a motion picture drama', 'best picture musical or comedy', 'best picture musical or comedy', 'best actor', 'best actress drama ', 'best actress in a dramatic film ', 'best actress ', 'best actress in a motion picture drama', 'best actress ', 'best picture comedy or musical', 'best motion picture musical or comedy', 'best actress', 'best actress ', 'best motion picture comedy or musical massive congrats to ', 'best actress ', 'best musical you could have knocked me over ', 'best picture musical or comedy', 'best actress in a dramatic film ', 'best actress ', 'best actress in a motion picture drama', 'best actor in a motion picture comedy or musical ', 'best picture musical or comedy', 'best comedy or musical tv series', 'best actress ', 'best actress ', 'best actress u deserved it girl u did an amazing job in zero dark thirty bravo', 'best actress in ', 'best actress ', 'best motion picture comedy or musical congrats to ', 'best actor ', 'best actor in a motion picture comedy or musical ', 'best actress', 'best actor ', 'best actor comedy or musical', 'best motion picture comedy or musical', 'best actress in a motion picture drama', 'best actress in a motion picture drama', 'best musical picture', 'best actress ', 'best motion picture comedy or musical congrats to ', 'best actor ', 'best old man crush he', 'best comedy or musicial did you see ', 'best picture musical or comedy', 'best actress in a motion picture drama ', 'best picture musical or comedy', 'best picture musical or comedy', 'best actress ', 'best director ', 'best actor', 'best motion picture comedy or musical', 'best motion picture comedy or musical', 'best motion picture comedy or musical', 'best actress drama ', 'best actor in a motion picture drama ', 'best actor in a motion picture drama', 'best actor ', 'best actress ', 'best actress in a drama', 'best actor in a motion picture drama ', 'best actor drama', 'best actress in a dramatic film ', 'best actor drama ', 'best actor in a drama ', 'best actress ', 'best motion picture comedy or musical', 'best actress', 'best animated aceshowbiz', 'best actress in a motion picture drama', 'best actress in a drama hands down her per', 'best actor in a motion picture drama ', 'best actor in a motion picture drama ', 'best actress in a drama', 'best per', 'best actress in a drama', 'best actress in a dramatic film ', 'best actor in a drama hands down his per', 'best actress and looks gorgeous icy blue calvin klein', 'best actor drama ', 'best actor in a motion picture drama ', 'best motion picture comedy or musical congrats to ', 'best comedy musical', 'best actor ', 'best actor ', 'best actor ', 'best actor in a motion picture drama ', 'best actor in a motion picture comedy or musical ', 'best picture musical or comedy', 'best actress ', 'best actor ', 'best actor drama award ', 'best ', 'best actor', 'best actor i m shocked', 'best actor in drama as world collectively says duh again is ', 'best actor in a motion picture drama ', 'best actor drama award ', 'best picture musical or comedy', 'best lead actor in a drama ', 'best actor ', 'best lead actor in a drama ', 'best actor ', 'best actress in a motion picture drama ', 'best actress in a motion picture drama ', 'best motion picture comedy or musical', 'best actor ', 'best actress in a motion picture drama', 'best actor drama award ', 'best actor ', 'best actor ', 'best actor ', 'best motion picture comedy or musical', 'best motion picture get i lt 3 jean valjean tshirt', 'best picture comedy or musical les miserables was named best pictu', 'best ', 'best actor in a motion picture comedy or musical ', 'best motion picture comedy musical rigged bought', 'best actor ', 'best actor in a motion picture drama ', 'best actor motion picture drama ', 'best motion picture musical or comedy', 'best actor drama 8 ', 'best actor in a motion picture comedy or musical ', 'best actor ', 'best ', 'best actress ', 'best best television comedy musical series', 'best motion picture musical or comedy', 'best motion picture screenplay ', 'best actor in a motion picture drama ', 'best motion picture musical or comedy', 'best actress in a dramatic film ', 'best actor in a drama ', 'best actress in a motion picture drama', 'best actress in a motion picture drama ', 'best actor ', 'best actor in a drama ', 'best actress drama ', 'best actress movie drama ', 'best actor', 'best actor ', 'best actress ', 'best actor in a motion picture in ', 'best actor in a drama ', 'best actor ', 'best actor ', 'best actor in a motion picture drama ', 'best picture musical or comedy', 'best motion picture comedy or musical', 'best actor in a motion picture comedy or musical ', 'best actor ', 'best actress drama ', 'best actor in a motion picture comedy or musical ', 'best actor ', 'best actress drama ', 'best actor in a drama ', 'best picture musical or comedy', 'best comedy or musical tv series', 'best motion picture comedy or musical', 'best actor in a motion picture drama ', 'best tv comedy', 'best motion picture comedy or musical', 'best actor ', 'best comedy or musical tv series', 'best motion picture musical or comedy', 'best actress in a drama', 'best actor in a motion picture comedy or musical ', 'best actor in a motion picture comedy or musical ', 'best actor in a drama ', 'best motion picture comedy or musical congrats to ', 'best actor in a comedy or musical congrats hugh jackman', 'best actor award ', 'best actor ', 'best actor in a motion picture comedy or musical ', 'best motion picture musical or comedy', 'best motion picture comedy or musical', 'best actor in a motion picture comedy or musical ', 'best actor', 'best motion picture comedy or musical massive congrats to ', 'best drama picture', 'best actor in a drama ', 'best picture comedy or musical', 'best picture drama', 'best director ', 'best motion picture drama', 'best motion picture drama via', 'best actor motion picture drama lincoln', 'best motion picture drama i m a fan of ben affleck', 'best picture drama', 'best picture yay', 'best picture daniel day lewis wins best actor', 'best picture', 'best original song ', 'best picture drama', 'best original song goes to skyfall 13 01 2013', 'best picture drama', 'best motion picture drama', 'best motion picture drama', 'best motion picture', 'best dramatic picture oh please thank canada this time ben come on', 'best picture drama', 'best ', 'best picture drama', 'best drama motion picture', 'bestmotiompicture u deserve it xd congrats', 'best picture drama', 'best actress drama ', 'best picture amp best director cause that', 'best picture', 'best picture drama', 'best actor in a musical or comedy award', 'best picture drama', 'best actor in a drama ', 'best picture drama', 'best drama that', 'best drama huge upset ', 'best motion picture drama', 'best motion picture drama', 'best picture drama', 'best motion picture drama via', 'best motion picture drama great movie none', 'best motion picture drama', 'best actress motion picture comedy or musical', 'best actress in a motion picture drama', 'best motion picture drama', 'best motion picture comedy or musical', 'best motion picture drama', 'best picture so glad lincoln didn t win', 'best picture didn t see that coming', 'best picture drama all films nominated were great', 'best picture drama', 'best motion picture drama kind of an upset', 'best picture drama', 'best picture drama', 'best motion picture drama', 'best motion picture drama congratulations', 'best motion picture drama', 'best actor in a motion picture comedy or musical ', 'best actress drama ', 'best picture', 'best actress in tv drama rubs in her win', 'best picture drama wheeeeeeeeeeeeee so happy ', 'best actress in a dramatic film ', 'best actor in a drama ', 'best picture amp best director cause that', 'best original song ', 'best picture', 'best picture drama', 'best picture beating out lincoln everyone', 'best actress in a motion picture drama', 'best motion picture drama', 'best actor in a motion picture in ', 'best actor ', 'best motion picture drama', 'best picture drama', 'best picture drama', 'best actor drama ', 'best actor drama ', 'best actor', 'best picture drama', 'best motion picture drama', 'best animated movie', 'best picture drama and we re wrapped up on time no less argof yourself', 'best picture drama', 'best actress in a television series drama ', 'best motion picture drama', 'best picture drama', 'best drama ', 'best actor in a musical or comedy award', 'best motion picture drama', 'best motion picture drama', 'best motion picture drama boy ', 'best motion picture drama', 'best motion picture great movie', 'best picture drama', 'best song ', 'best song ', 'best song ', 'best picture', 'best actor in a drama ', 'best actor in a musical or comedy award', 'best song ', 'best drama i m sure a good movie ', 'best actor drama ', 'best drama just goes to show it', 'best lead actor in a drama ', 'best motion picture comedy or musical', 'best motion picture now let', 'best actor in a drama ', 'best picture also my pick ', 'best picture drama woop wooopppppppp d', 'best picture', 'best motion picture drama', 'best picture drama argo fuck yourself academy ben affleck out', 'best motion picture drama ', 'best drama to close ', 'best picture drama', 'best picture beating out lincoln everyone', 'best motion picture drama', 'best motion picture ben affleck your gigli curse has been broken congrats', 'best motion picture and best director', 'best drama motion picture', 'best picture by ', 'best picture drama', 'best motion picture', 'best motion picture drama go ben go ben go go go rt if you love ben', 'best song ', 'best picture drama congrats hopefully it will soften ', 'best actor in a motion picture comedy or musical ', 'best picture drama', 'best actor in a motion picture comedy or musical ', 'best picture that was my favorite ', 'best picture', 'best motion picture drama', 'best actor drama ', 'best actress drama ', 'best drama to close ', 'best director amp motion picture drama ', 'best picture', 'best actor drama ', 'best actor drama ', 'best picture drama', 'best actor in a motion picture comedy or musical ', 'best picture totally deserved', 'best motion picture well deserved', 'best animated feature film via', 'best picture drama', 'best picture drama ', 'best motion picture musical or comedy', 'best song ', 'best drama and it', 'best picture congrats that', 'best picture congrats that', 'best movie drama congrats to ', 'best picture drama', 'best motion picture comedy or musical', 'best picture what a night ', 'best motion picture drama', 'best actress in a motion picture drama', 'best actor in a motion picture drama ', 'best actor in a musical or comedy award', 'best motion picture ', 'best motion picture totally deserved it', 'best drama to close ', 'best actor in a motion picture comedy or musical ', 'best director ', 'best actor drama ', 'best film drama', 'best supporting actress in a motion picture ', 'best motion picture in comedy or musical category', 'best drama', 'best actor in a motion picture comedy or musical ', 'best actress in a motion picture drama', 'best actor ', 'best actor in a drama ', 'best actress in a drama', 'best actress in a musical or comedy ', 'best actor drama ', 'best drama this actually gives it some oscar momentum probably wrap', 'best drama ', 'best actor drama ', 'best comedy musical movie', 'best comedy musical movie', 'best comedy musical movie', 'best director ', 'best comedy musical movie', 'best comedy musical movie', 'best picture', 'best actor in a motion picture drama ', 'best picture drama', 'best motion picture screenplay ', 'best actress in a drama series', 'best ', 'best actor in a motion picture drama ', 'best song ', 'best actor ', 'best song ', 'best actor drama ', 'best picture wow i need to see this movie too', 'best actor drama ', 'best actor drama ', 'best motion picture', 'best picture and best director ', 'best actor drama ', 'best actor in a motion picture comedy or musical ', 'best motion picture drama amp best director', 'best actor in a musical or comedy award', 'best actor ', 'best featured actress ', 'best featured actress ', 'best director and his movie argo best movie drama d', 'best featured actress ', 'best motion picture drama via', 'best actor in a comedy musical ', 'best actor ', 'best actress ', 'best motion picture in drama category', 'best actress in a drama', 'best motion picture drama', 'best motion picture drama', 'best picture musical or comedy', 'best actor drama ', 'best picture', 'best motion picture ', 'best motion picture musical or comedy', 'best picture', 'best motion picture drama', 'best actor comedy or musical he did not get a flu shot do not take hugh', 'best motion picture musical or comedy', 'best actress motion picture comedy or musical ', 'best picture beating out lincoln everyone', 'best picture drama', 'best featured actress ', 'best actor in a motion picture drama ', 'best actress in a comedy series', 'best motion picture drama', 'best featured actress ', 'best actor ', 'best actor in a motion picture comedy or musical ', 'best picture drama', 'best drama to close ', 'best actor in a motion picture drama', 'best actor in a motion picture comedy or musical ', 'best actor in a motion picture comedy or musical ', 'best motion picture comedy or musical congrats to ', 'best picture drama', 'best actor drama ', 'best picture drama and les miserables wins best picture comedy or musical', 'best director despite oscar snub', 'best picture comedy or musical', 'best actor', 'best picture lincoln sucks a donkey dick just like in rl', 'best actor', 'best actor', 'best picture drama', 'best picture drama', 'best picture drama', 'best actor drama ', 'best actor drama ', 'best motion picture drama yeah baby go', 'best actor drama ', 'best actor in a drama ', 'best motion picture comedy or musical', 'best actor in a comedy musical ', 'best drama', 'best actress in a drama', 'best motion picture musical or comedy', 'best picture so if we ve learned anything from tonight it', 'best actress', 'best motion picture in drama category', 'best actor drama ', 'best motion picture musical or comedy', 'best actor', 'best actor ', 'best picture have to go see it now', 'best actor drama ', 'best actor in a tv drama ', 'best actress in a motion picture drama ', 'best motion picture comedy or musical', 'best motion picture comedy or musical', 'best picture drama and les miserables wins best picture comedy or musical', 'best director and best picture', 'best picture musical or comedy', 'best motion picture drama', 'best actress in a tv series comedy or musical', 'best actor ', 'best actress in a motion picture drama', 'best director motion picture ', 'best motion picture comedy or musical', 'best motion picture musical or comedy', 'best actor ', 'best picture drama and les miserables wins best picture comedy or musical', 'best picture musical or comedy', 'best picture drama and wins best picture comedy or musical', 'best director casper stand up amp clap stand up jlo', 'best actor in a motion picture comedy or musical ', 'best pic cuz it just won best flick', 'best actor in a motion picture comedy or musical ', 'best actress drama ', 'best picture drama and les miserables wins best picture comedy or musical', 'best motion picture drama', 'best actor in a motion picture comedy or musical ', 'best actor in a drama ', 'best school in asia', 'best actor drama ', 'best actor motion picture drama ', 'best actor drama ', 'best actress drama ', 'best motion picture comedy or musical', 'best actor motion picture drama ', 'best film director ', 'best actor motion picture drama ', 'best picture', 'best director ', 'best drama les miserables wins best musical argo slowed ', 'best actor motion picture drama ', 'best actor in motion picture comedy or musical ', 'best motion picture musical or comedy', 'best actor motion picture drama ', 'best actor ', 'best film best director', 'best actor in a musical or comedy award', 'best director', 'best actor in a motion picture drama ', 'best actor ', 'best actor in a musical or comedy award', 'best actress in a comedy series', 'best picture drama and les miserables wins best picture comedy or musical', 'best picture musical or comedy', 'best drama film', 'best picture drama', 'best motion picture comedy or musical', 'best actor in a motion picture comedy or musical ', 'best actor in a musical or comedy award', 'best original song', 'best actress in a drama', 'best director ', 'best actress in tv drama rubs in her win', 'best actress drama ', 'best director motion picture ', 'best picture musical or comedy', 'best actress drama ', 'best motion picture musical or comedy', 'best actress in a comedy or musical ', 'best picture drama', 'best actress in a comedy or musical ', 'best actress in a comedy or musical ', 'best actor ', 'best motion picture musical or comedy', 'best motion picture musical or comedy', 'best actress comedy musical ', 'best actor motion picture drama ', 'best animated feature film via', 'best miniseries congrats to sarah palin on 2 more minutes of', 'best actor in a musical or comedy', 'best actor motion picture drama ', 'best motion picture comedy or musical', 'best actor ', 'best actor drama ', 'best actress in a motion picture drama', 'best hollywood movie voted on by ', 'best picture drama', 'best motion picture drama', 'best featured actress ', 'best screenplay ', 'best motion picture comedy or musical', 'best actor', 'best actor motion picture drama ', 'best actress in a drama', 'best drama', 'best original song goes to skyfall 2013 ', 'best actor in a motion picture drama', 'best actor drama ', 'best picture anne hathaway wins best supporting actress hugh jackman wins best lead actor', 'best motion picture comedy or musical congrats to ', 'best actress drama ', 'best actor motion picture drama ', 'best actor comedy musical ', 'best motion picture musical or comedy', 'best actor in a musical comedy', 'best picture', 'best actor ', 'best actor in a drama ', 'best actress ', 'best screenplay ', 'best screenplay ', 'best actress drama ', 'best motion picture comedy or musical holy chef luto yan kinabog ang sisterakas lol', 'best actor ', 'best director ', 'best drama', 'best animated feature film wreck it ralph was a better movie', 'best ', 'best ', 'best original song goes to skyfall 2013 go via', 'best motion picture comedy or musical', 'best actress ', 'best song', 'best actor in a motion picture comedy or musical ', 'best motion picture drama', 'best ', 'best actor motion picture drama ', 'best actor in a miniseries or motion picture ', 'best actor in a comedy or musical congrats hugh jackman', 'best actress in a tv series comedy or musical', 'best actor in a motion picture drama ', 'best actress in a drama', 'best actress drama ', 'best drama', 'best comedy musical', 'best motion picture musical or comedy', 'best actor motion picture drama ', 'best actor in a motion picture comedy or musical ', 'best actor in a motion picture comedy or musical ', 'best drama', 'best actress motion picture comedy or musical', 'best actor ', 'best actress in a drama', 'best picture musical or comedy', 'best actor in a motion picture comedy or musical ', 'best actor in a motion picture comedy or musical ', 'best actress motion picture comedy or musical', 'best motion picture musical or comedy']\n"
     ]
    }
   ],
   "source": [
    "print(awards)"
   ]
  },
  {
   "cell_type": "code",
   "execution_count": 35,
   "metadata": {},
   "outputs": [],
   "source": [
    "valid_awards = []\n",
    "for each in awards:\n",
    "    each = each.lower()\n",
    "    if len(set(each.split(\" \")).intersection(set(awards_bag_of_words)))>2:\n",
    "        valid_awards.append(each)"
   ]
  },
  {
   "cell_type": "code",
   "execution_count": 16,
   "metadata": {},
   "outputs": [
    {
     "name": "stdout",
     "output_type": "stream",
     "text": [
      "['best supporting actor - motion picture ', 'best supporting actress in a tv show', 'best supporting actress in a tv show', 'best supporting tv actress in downton abbey', 'best supporting actress in a tv show', 'best supporting actress in a tv show', 'best supporting actress in a tv show', 'best mini-series or motion picture made ', 'best supporting actress in a tv show', 'best mini series or tv movie', 'best supporting actress in a tv show', 'best actress in a mini-series or tv movie ', 'best actress in a miniseries or motion picture made ', 'best actress in a tv series ', 'best actress in mini-series or tv movie ', 'best actress in a mini-series or tv movie ', 'best actress in a miniseries or motion picture made ', 'best actress in a mini series or tv movie', 'best actress in a mini-series or tv movie ', 'best actress in a miniseries or motion picture made ', 'best actress in a mini-series or tv movie ', 'best actress in a mini-series or tv movie ', 'best actress in a miniseries or motion picture made ', 'best actor tv series or drama ', 'best actor in a tv series ', 'best actress in a mini series or tv movie', 'best actor in a tv drama ', 'best actor tv series ', 'best actor in a tv drama ', 'best actor in a tv series – drama', 'best actor in a tv drama ', 'best tv series drama', 'best tv drama series', 'best tv drama series', 'best tv series drama', 'best actor in a tv drama series ', 'best tv series drama', 'best actor in tv series drama golden globes 2013 ', 'best actor and best drama series', 'best tv series drama', 'best tv series drama', 'best tv series drama', 'best original score - motion picture', 'best original song motion picture', 'best original song motion picture', 'best original song in a motion picture', 'best original song in a motion picture', 'best tv series drama', 'best original song in a motion picture', 'best original song in a motion picture', 'best original song in a motion picture', 'best original song in a motion picture ', 'best original song in a motion picture ', 'best original song in a motion picture ', 'best tv series drama', 'best original song in a motion picture', 'best actor in a miniseries or motion picture made ', 'best actor mini series / tv movie', 'best original song in a motion picture', 'best actor in a miniseries or motion picture made ', 'best actor in a miniseries or motion picture made ', 'best tv series drama', 'best actress in a motion picture - comedy ', 'best actress motion picture - comedy or musical', 'best actress in a comedy or musical movie ', 'best actress motion picture comedy or musical ', 'best actress motion picture - comedy or musical', 'best actress motion picture - comedy or musical', 'best actress in a comedy or musical', 'best actress in a motion picture', 'best actress in a comedy or musical ', 'best actress in a comedy or musical ', 'best actress in a comedy or musical movie ', 'best actress motion picture comedy or musical ', 'best original song motion picture', 'best actress motion picture comedy or musical ', 'best actress in comedy or musical in film', 'best actress in a comedy or musical movie ', 'best actress in a comedy or musical movie ', 'best actress in musical or comedy', 'best actress in a comedy or musical movie ', 'best actress in a comedy or musical movie ', 'best actress in a comedy or musical movie ', 'best actress in a comedy or musical movie ', 'best actress in a comedy or musical', 'best actress in musical or comedy', 'best actress motion picture ', 'best actress in musical or comedy', 'best actress in a comedy or musical movie ', 'best actress in musical or comedy', 'best actress in musical or comedy', 'best actress in musical or comedy', 'best supporting actress in a motion picture ', 'best supporting actress in a motion picture ', 'best supporting actress in a motion picture ', 'best supporting actress in a motion picture ', 'best actress in a supporting role in a motion picture ', 'best supporting actress in a motion picture ', 'best supporting actress in a motion picture - les miserables', 'best supporting actress in a motion picture ', 'best original song in a motion picture', 'best supporting actress in a motion picture ', 'best actress in a supporting role in a motion picture ', 'best actress in a musical or comedy golden globes 2013', 'best actress in a motion picture - comedy ', 'best actress in a supporting role in a motion picture ', 'best supporting actor in a series or tv movie', 'best supporting actress in a motion picture ', 'best supporting actress in a motion picture ', 'best actress in a comedy or musical movie ', 'best actress in a comedy or musical movie ', 'best actress motion picture - comedy or musical', 'best actress in a musical or comedy golden globes 2013', 'best actress in a musical or comedy golden globes 2013', 'best actress in a musical or comedy golden globes 2013', 'best supporting actress in a motion picture ', 'best tv series - drama', 'best supporting actress in a motion picture', 'best supporting actress in a motion picture ', 'best actress in a musical or comedy golden globes 2013', 'best original song in a motion picture', 'best screenplay - motion picture', 'best motion picture screenplay ', 'best actress motion picture - comedy or musical', 'best director - motion picture ', 'best screenplay - motion picture', 'best  actress in a musical or comedy golden globes 2013', 'best motion picture screenplay ', 'best motion picture screenplay ', 'best motion picture screenplay ', 'best motion picture screenplay ', 'best supporting actress in a motion picture ', 'best screenplay - motion picture', 'best motion picture screenplay ', 'best screenplay - motion picture', 'best actress in a supporting role in a motion picture ', 'best actress in a supporting role in a motion picture ', 'best motion picture screenplay ', 'best actor in tv series/comedy or musical', 'best actor in a comedy or musical tv series ', 'best actor in a television series', 'best tv musical or comedy ', 'best actor in a television series', 'best actress motion picture - comedy or musical', 'best actor in a television series', 'best motion picture screenplay ', 'best actor in a tv series - comedy', 'best actor in a comedy or musical tv series ', 'best actor in a comedy or musical tv series ', 'best actor in a comedy or musical tv series ', 'best actor in a comedy or musical tv series ', 'best actor in a comedy or musical tv series ', 'best motion picture screenplay ', 'best actor in a comedy or musical tv series ', 'best actor in a comedy or musical tv series ', 'best actor in a comedy or musical tv series ', 'best actress in a musical or comedy golden globes 2013', 'best actor in a comedy or musical tv series ', 'best actor in a comedy or musical tv series ', 'best actress in a musical or comedy golden globes 2013', 'best actor in a television series', 'best screenplay - motion picture', 'best actor in a comedy or musical tv series ', 'best foreign language film', 'best foreign language film', 'best actor in a television series', 'best motion picture screenplay ', 'best motion picture screenplay ', 'best motion picture screenplay ', 'best supporting actress in a motion picture ', 'best actress in a tv series drama ', 'best actress in a tv drama', 'best actress in a tv series drama', 'best drama tv actress ', 'best actress - tv series - drama ', 'best actress in a tv series drama ', 'best actess in a tv series drama', 'best actress in a tv series drama', 'best actress in a tv series - drama ', 'best actress in tv drama ', 'best supporting actress in a motion picture ', 'best actress in a tv series drama', 'best actress in tv drama ', 'best actress in tv drama ', 'best actress in tv drama ', 'best actress in a tv series drama ', 'best actor in a comedy or musical tv series ', 'best actress in tv drama ', 'best actress in tv drama', 'best actress in a television series ', 'best actress in tv drama', 'best actress in tv drama', 'best actress in tv drama', 'best supporting actress in a motion picture ', 'best actress in a tv series drama', 'best actress in tv drama', 'best original song in a motion picture ', 'best actress in tv drama', 'best tv series - drama', 'best actress tv - drama', 'best tv series - drama', 'best actress in tv drama', 'best tv drama actress ', 'best actress in tv drama', 'best actress in tv drama', 'best actress in a drama television series', 'best actress in tv drama ', 'best actress in tv drama', 'best actress in tv drama', 'best actress in tv drama ', 'best actress in tv drama', 'best animated feature film', 'best animated feature film', 'best supporting actress in a motion picture', 'best actress in tv drama', 'best actress in tv drama', 'best screenplay - motion picture', 'best actress in a drama series', 'best animated feature film', 'best animated feature film', 'best animated film - great year ', 'best animated feature film', 'best actress in tv drama', 'best actress in tv drama', 'best animated feature film', 'best animated film - great year ', 'best actress in a drama series', 'best actress in a drama series', 'best animated feature film', 'best actor and actress respectively in drama series', 'best animated film - great year ', 'best animated feature film', 'best animated film - great year ', 'best animated feature film', 'best actress in tv drama', 'best animated feature film', 'best animated feature film', 'best original song in a motion picture', 'best animated feature film', 'best actress in a tv series ', 'best animated feature film', 'best actress in a tv series - comedy or musical', 'best actress in a tv series - comedy or musical', 'best animated feature film', 'best actress in a tv series - comedy or musical', 'best actress in a tv series - comedy or musical', 'best actress in a tv series - comedy or musical', 'best actress in a drama series', 'best actress in a television series', 'best actress in a tv series', 'best animated feature film', 'best animated feature film', 'best tv comedy actress', 'best tv actress in a comedy from girls', 'best animated feature film', 'best actress in a mini-series or tv movie ', 'best actress in tv drama', 'best actress in a comedy tv series - comedy or musical ', 'best actress in a tv series - comedy or musical ', 'best actress motion picture - comedy or musical', 'best actress in a musical or comedy golden globes 2013', 'best actress in tv drama', 'best actress motion picture - comedy or musical', 'best tv drama actress ', 'bestsupporting actress in a motion picture', 'best actress in a drama series', 'best tv series actress ', 'best actress in a comedy series', 'best actress in a comedy series', 'best actress in a comedy series', 'best animated feature film', 'best actress in a comedy series', 'best actress in a comedy series', 'best actress in a comedy series', 'best actress in a comedy series', 'best animated feature film', 'best actress in a comedy series', 'best actress in a drama series', 'best actress in tv drama', 'best tv comedy actress', 'best actor in a tv series ', 'best animated feature film', 'best animated feature film', 'best actress in a comedy series', 'best director - motion picture ', 'best director - motion picture ', 'best actress in a comedy series', 'best tv series - comedy or musical', 'best tv series - comedy or musical', 'best tv series - comedy or musical', 'best tv series - comedy or musical', 'best tv series  -comedy or musical', 'best tv series comedy or musical', 'best tv series - comedy or musical', 'best tv series - comedy or musical', 'best tv comedy series', 'best tv comedy series', 'best drama tv series ', 'best comedy tv series', 'best actress motion picture - comedy or musical', 'best actress tv drama', 'best actor in a motion picture musical or comedy ', 'best actress in a drama series', 'best actor - comedy or musical', 'best actor motion picture', 'best actor in a motion picture - comedy or musical', 'best actor in a motion picture', 'best actor in a comedy or musical', 'best actor in a motion picture', 'best comedy or musical tv series', 'best actor in a motion picture', 'best actor in a comedy or musical', 'best actor in a motion picture ', 'best actor in a motion picture', 'best actor in a motion picture', 'best actor in a motion picture', 'best actor in a motion picture', 'best actor in musical or comedy', 'best actor in a motion picture', 'best actor in a comedy or musical', 'best actor in a comedy or musical', 'best actor in a motion picture', 'best actor in a motion picture', 'best actor in a motion picture', 'best screenplay - motion picture', 'best actor in a motion picture', 'best actor in a motion picture', 'best director - motion picture- ', 'best actor in a comedy or musical', 'best actor in a motion picture', 'best actor in a motion picture', 'best director - motion picture ', 'best comedy or musical tv series', 'best actor in a motion picture', 'best actor in a motion picture', 'best actor in a motion picture', 'best actor in comedy or musical ', 'best actor in a motion picture', 'best actor in a comedy or musical', 'best actor in a motion picture', 'best comedy or musical tv series', 'best actor in a motion picture', 'best actor in a motion picture', 'best actor in a motion picture', 'best actor in a motion picture', 'best actor in a comedy or musical', 'best actor in a comedy or musical', 'best actor in a motion picture', 'best actress in a comedy series', 'best actor in a motion picture', 'best comedy or musical tv series', 'best motion picture - comedy or musical', 'best animated feature film', 'best actor in a motion picture', 'best actor in a comedy or musical', 'best actor in a motion picture', 'best actor in a motion picture', 'best actor in a comedy or musical', 'best actor in a miniseries or motion picture made ', 'best motion picture - musical or comedy', 'best picture - comedy or musical', 'best picture - comedy or musical', 'best actor in a motion picture', 'best picture - comedy or musical', 'best motion picture - comedy or musical', 'best picture - comedy or musical ', 'best picture - comedy or musical', 'best motion picture comedy or musical', 'best motion picture - musical or comedy', 'best actor in a motion picture', 'best actor in a motion picture', 'best actor in a motion picture', 'best actor in a motion picture', 'best motion picture - comedy or musical', 'best actor in a motion picture', 'best comedy or musical tv series', 'best motion picture - comedy or musical', 'best actor in a motion picture', 'best motion picture - comedy or musical', 'best picture - comedy or musical', 'best actress in a motion picture - drama', 'best actress in a motion picture - drama', 'best picture - comedy or musical', 'best actress in a motion picture', 'best actor in a motion picture', 'best comedy or musical tv series', 'best actor in a motion picture', 'best actress in a motion picture - drama', 'best actress in a motion picture - drama', 'best actress in a motion picture', 'best actor in a motion picture drama ', 'best actor in a motion picture - drama', 'best actor in a motion picture', 'best actress in a motion picture – drama', 'best actor in a motion picture', 'best actor in a motion picture', 'best actor - drama ', 'best actor in a motion picture', 'best actor in a motion picture ', 'best actor in a motion picture', 'best actor - drama', 'best actor in a motion picture', 'best actor - drama', 'best actress in a motion picture', 'best actress in a motion picture', 'best actress in a motion picture - drama', 'best actor - drama', 'best actor in a motion picture', 'best actor in a motion picture', 'best actor motion picture - drama ', 'best actor in a motion picture', 'best motion picture screenplay ', 'best actor in a motion picture – drama ', 'best actress in a motion picture - drama', 'best actress in a motion picture', 'best actor in a motion picture in ', 'best actor in a motion picture – drama ', 'best actor in a motion picture', 'best actor in a motion picture', 'best comedy or musical tv series', 'best actor in a motion picture – drama ', 'best comedy or musical tv series', 'best motion picture - musical or comedy', 'best actor in a motion picture', 'best actor in a motion picture', 'best actor in a comedy or musical', 'best actor in a motion picture', 'best motion picture - musical or comedy', 'best actor in a motion picture', 'best picture - comedy or musical', 'best actor motion picture drama ', 'best picture - drama', 'best picture - drama', 'best motion picture - drama', 'best motion picture - drama', 'best drama motion picture', 'best picture - drama', 'best actor in a musical or comedy award', 'best picture - drama', 'best motion picture drama', 'best actress motion picture - comedy or musical', 'best actress in a motion picture – drama', 'best motion picture - comedy or musical', 'best motion picture - drama', 'best picture - drama', 'best motion picture - drama', 'best motion picture drama', 'best motion picture drama', 'best actor in a motion picture', 'best actress in tv drama', 'best actress in a motion picture - drama', 'best actor in a motion picture in ', 'best motion picture - drama', 'best picture - drama', 'best motion picture drama', 'best actor in a musical or comedy award', 'best motion picture - drama', 'best actor in a musical or comedy award', 'best motion picture - comedy or musical', 'best motion picture drama ', 'best picture - drama', 'best motion picture - drama', 'best motion picture and best director', 'best drama motion picture', 'best motion picture drama', 'best actor in a motion picture', 'best actor in a motion picture ', 'best actor in a motion picture', 'best animated feature film', 'best motion picture - drama', 'best actress in a motion picture – drama', 'best actor in a motion picture ', 'best actor in a musical or comedy award', 'best actor in a motion picture', 'best supporting actress in a motion picture ', 'best actor in a motion picture', 'best actress in a motion picture - drama', 'best  actress in a musical or comedy golden globes 2013', 'best actor in a motion picture', 'best picture - drama', 'best motion picture screenplay ', 'best actress in a drama series', 'best actor in a motion picture – drama ', 'best actor in a motion picture', 'best motion picture drama &amp', 'best actor in a musical or comedy award', 'best motion picture - drama', 'best motion picture - drama', 'best actor in a motion picture – drama ', 'best actress in a comedy series', 'best motion picture drama', 'best actor in a motion picture', 'best actor in a motion picture drama', 'best actor in a motion picture', 'best actor in a motion picture', 'best picture - drama', 'best picture - drama and ', 'best picture - drama', 'best actor in a tv drama ', 'best actress in a motion picture ', 'best motion picture - comedy or musical', 'best picture - drama and ', 'best motion picture - drama', 'best actress in a tv series - comedy or musical', 'best actress in a motion picture - drama', 'best director - motion picture- ', 'best picture - drama and ', 'best picture - drama and ', 'best actor in a motion picture', 'best actor in a motion picture', 'best picture - drama and ', 'best actor in a motion picture', 'best actor motion picture - drama ', 'best actor motion picture - drama ', 'best actor motion picture - drama ', 'best actor motion picture - drama ', 'best actor in motion picture', 'best actor motion picture - drama ', 'best actor in a musical or comedy award', 'best actor in a motion picture – drama ', 'best actor in a musical or comedy award', 'best actress in a comedy series', 'best picture - drama and ', 'best actor in a motion picture - comedy or musical ', 'best actor in a musical or comedy award', 'best actress in tv drama', 'best director - motion picture- ', 'best actress in a comedy or musical ', 'best actress in a comedy or musical ', 'best actress in a comedy or musical ', 'best actor motion picture - drama ', 'best animated feature film', 'best actor in a musical or comedy', 'best actor motion picture - drama ', 'best actress in a motion picture- drama', 'best picture - drama', 'best actor motion picture - drama ', 'best actor in a motion picture drama', 'best actor motion picture - drama ', 'best animated feature film', 'best actor in a motion picture', 'best actor motion picture - drama ', 'best actor in a miniseries or motion picture made ', 'best actor in a comedy or musical', 'best actress in a tv series - comedy or musical', 'best actor in a motion picture – drama ', 'best actor motion picture - drama ', 'best actor in a motion picture', 'best actor in a motion picture', 'best actress motion picture - comedy or musical', 'best actor in a motion picture', 'best actor in a motion picture - comedy or musical ']\n"
     ]
    }
   ],
   "source": [
    "print(valid_awards)"
   ]
  },
  {
   "cell_type": "code",
   "execution_count": 10,
   "metadata": {},
   "outputs": [
    {
     "name": "stdout",
     "output_type": "stream",
     "text": [
      "Requirement already satisfied: fuzzywuzzy in c:\\users\\victo\\anaconda3\\envs\\nlp-env\\lib\\site-packages (0.17.0)\n"
     ]
    }
   ],
   "source": [
    "!pip install fuzzywuzzy"
   ]
  },
  {
   "cell_type": "code",
   "execution_count": 15,
   "metadata": {},
   "outputs": [],
   "source": [
    "from fuzzywuzzy import fuzz\n",
    "\n",
    "def dataProcess(lawards):\n",
    "    for (i,a) in enumerate(lawards):\n",
    "        if \"performance\" not in a and (\"actor\" in a or \"actress\" in a) and \"supporting\" not in a:\n",
    "            if \"actor\" in a:\n",
    "                lawards[i] = a.replace(\"actor\",\"performance by an actor\")\n",
    "            elif \"actress\" in a:\n",
    "                lawards[i] = a.replace(\"actress\",\"performance by an actress\")\n",
    "    return lawards\n",
    "\n",
    "def remove_duplicate(all_data, limit):\n",
    "    for i in range(0, len(all_data)):\n",
    "        for j in range(i+1, len(all_data)):\n",
    "            if fuzz.ratio(all_data[i], all_data[j]) > limit or fuzz.token_set_ratio(all_data[i], all_data[j]) > limit or fuzz.token_sort_ratio(all_data[i], all_data[j]) > limit or fuzz.partial_ratio(all_data[i], all_data[j]) > limit:\n",
    "                all_data[j] = \"\"\n",
    "    return list(set(all_data))"
   ]
  },
  {
   "cell_type": "code",
   "execution_count": 36,
   "metadata": {},
   "outputs": [
    {
     "name": "stdout",
     "output_type": "stream",
     "text": [
      "['', 'best performance by an actor in a musical or comedy award', 'best performance by an actress tv series calls nominees in category brilliant', 'best animated feature film via', 'best performance by an actress in a drama series', 'best television show musical comedy congrats xoxoxoxo', 'best supporting actress in a motion picture ', 'best director motion picture ', 'best supporting actor motion picture ', 'best performance by an actor movie comedy or musical sing talk to me hugh', 'best performance by an actor amp takes best musical comedy good night', 'best supporting actor in a series or tv movie', 'best tv series drama', 'best performance by an actress comedy musical first win of ', 'best performance by an actress tv drama i want to thank ', 'best picture comedy or musical have to see it', 'best performance by an actress in a comedy series', 'best performance by an actor in a miniseries or motion picture ', 'best supporting actress in a tv show everyone playing tina and amy', 'best animated feature film wreck it ralph was a better movie', 'best tv performance by an actor comedy tarantino wins screenplay award jennifer lawrence', 'best performance by an actress in a motion picture comedy ', 'best performance by an actress in comedy or musical in film heard mixed reviews on silver lingings playbook as a ', 'best performance by an actress in a television series love love girls', 'best picture comedy musical fuck my life', 'best motion picture comedy musical rigged bought', 'best performance by an actor in tv series 4 house of lies', 'best performance by an actor comedy or musical he did not get a flu shot do not take hugh', 'best animated feature film gt kok brave', 'best television series drama', 'best performance by an actress tv drama making it a bit of a clean sweep ', 'best supporting actor in a series i like ed harris ', 'best animated feature film we kinda wished it was wreck it ralph', 'best motion picture comedy or musical congrats to ', 'best performance by an actress in a comedy or musical movie ', 'best original song in a motion picture', 'best motion picture comedy or musical great and powerful movie well deserved crying again', 'best performance by an actor in a comedy or musical congrats hugh jackman', 'best picture anne hathaway wins best supporting actress hugh jackman wins best lead actor', 'best picture comedy musical do you hear ', 'best performance by an actress in a tv miniseries or motion picture', 'best performance by an actress in a comedy or musical hmm jessica chastain might not have a lock on oscar', 'best supporting actor in django unchained maggie smith wins best supporting tv actress in downton abbey', 'best performance by an actor and best drama series check out our running ', 'best performance by an actor in a mini series tv movie', 'best performance by an actress in mini series tv movie ', 'best mini series or tv movie', 'best performance by an actor tv movie or mini and he could care less', 'best picture musical comedy making me 14 8', 'best motion picture in comedy or musical category', 'best performance by an actor in a tv drama ', 'best performance by an actor in a comedy or musical looking dapper as ever', 'best motion picture drama', 'best performance by an actress in tv drama rubs in her win', 'best motion picture screenplay ', 'best performance by an actress motion picture comedy or musical ', 'best tv comedy performance by an actress', 'best performance by an actor in a motion picture comedy or musical ', 'best television series comedy or misical', 'best motion picture musical or comedy yesssssss', 'best picture comedy or musical good call afp good call', 'best tv movie mini series definitely not surprised', 'best motion picture comedy or musical holy chef luto yan kinabog ang sisterakas lol', 'best motion picture comedy or musical bring on friday', 'best picture drama and les miserables wins best picture comedy or musical', 'best performance by an actor in a comedy or musical tv series ', 'best picture comedy or musical les miserables was named best pictu', 'best best television comedy musical series']\n"
     ]
    }
   ],
   "source": [
    "valid_awards.sort(key=lambda a: len(a),reverse=True)\n",
    "\n",
    "valid_awards = [a[0] for a in nltk.FreqDist(valid_awards).most_common(100)]\n",
    "#print(valid_awards)\n",
    "valid_awards = remove_duplicate(valid_awards, 95)\n",
    "valid_awards = dataProcess(valid_awards)\n",
    "print(valid_awards)"
   ]
  },
  {
   "cell_type": "code",
   "execution_count": 37,
   "metadata": {},
   "outputs": [
    {
     "name": "stdout",
     "output_type": "stream",
     "text": [
      "\n",
      "best performance by an actor in a musical or comedy award\n",
      "best performance by an actress tv series calls nominees in category brilliant\n",
      "best animated feature film via\n",
      "best performance by an actress in a drama series\n",
      "best television show musical comedy congrats xoxoxoxo\n",
      "best supporting actress in a motion picture \n",
      "best director motion picture \n",
      "best supporting actor motion picture \n",
      "best performance by an actor movie comedy or musical sing talk to me hugh\n",
      "best performance by an actor amp takes best musical comedy good night\n",
      "best supporting actor in a series or tv movie\n",
      "best tv series drama\n",
      "best performance by an actress comedy musical first win of \n",
      "best performance by an actress tv drama i want to thank \n",
      "best picture comedy or musical have to see it\n",
      "best performance by an actress in a comedy series\n",
      "best performance by an actor in a miniseries or motion picture \n",
      "best supporting actress in a tv show everyone playing tina and amy\n",
      "best animated feature film wreck it ralph was a better movie\n",
      "best tv performance by an actor comedy tarantino wins screenplay award jennifer lawrence\n",
      "best performance by an actress in a motion picture comedy \n",
      "best performance by an actress in comedy or musical in film heard mixed reviews on silver lingings playbook as a \n",
      "best performance by an actress in a television series love love girls\n",
      "best picture comedy musical fuck my life\n",
      "best motion picture comedy musical rigged bought\n",
      "best performance by an actor in tv series 4 house of lies\n",
      "best performance by an actor comedy or musical he did not get a flu shot do not take hugh\n",
      "best animated feature film gt kok brave\n",
      "best television series drama\n",
      "best performance by an actress tv drama making it a bit of a clean sweep \n",
      "best supporting actor in a series i like ed harris \n",
      "best animated feature film we kinda wished it was wreck it ralph\n",
      "best motion picture comedy or musical congrats to \n",
      "best performance by an actress in a comedy or musical movie \n",
      "best original song in a motion picture\n",
      "best motion picture comedy or musical great and powerful movie well deserved crying again\n",
      "best performance by an actor in a comedy or musical congrats hugh jackman\n",
      "best picture anne hathaway wins best supporting actress hugh jackman wins best lead actor\n",
      "best picture comedy musical do you hear \n",
      "best performance by an actress in a tv miniseries or motion picture\n",
      "best performance by an actress in a comedy or musical hmm jessica chastain might not have a lock on oscar\n",
      "best supporting actor in django unchained maggie smith wins best supporting tv actress in downton abbey\n",
      "best performance by an actor and best drama series check out our running \n",
      "best performance by an actor in a mini series tv movie\n",
      "best performance by an actress in mini series tv movie \n",
      "best mini series or tv movie\n",
      "best performance by an actor tv movie or mini and he could care less\n",
      "best picture musical comedy making me 14 8\n",
      "best motion picture in comedy or musical category\n",
      "best performance by an actor in a tv drama \n",
      "best performance by an actor in a comedy or musical looking dapper as ever\n",
      "best motion picture drama\n",
      "best performance by an actress in tv drama rubs in her win\n",
      "best motion picture screenplay \n",
      "best performance by an actress motion picture comedy or musical \n",
      "best tv comedy performance by an actress\n",
      "best performance by an actor in a motion picture comedy or musical \n",
      "best television series comedy or misical\n",
      "best motion picture musical or comedy yesssssss\n",
      "best picture comedy or musical good call afp good call\n",
      "best tv movie mini series definitely not surprised\n",
      "best motion picture comedy or musical holy chef luto yan kinabog ang sisterakas lol\n",
      "best motion picture comedy or musical bring on friday\n",
      "best picture drama and les miserables wins best picture comedy or musical\n",
      "best performance by an actor in a comedy or musical tv series \n",
      "best picture comedy or musical les miserables was named best pictu\n",
      "best best television comedy musical series\n"
     ]
    }
   ],
   "source": [
    "for a_name in valid_awards:\n",
    "    print(a_name)"
   ]
  },
  {
   "cell_type": "code",
   "execution_count": 26,
   "metadata": {},
   "outputs": [
    {
     "name": "stdout",
     "output_type": "stream",
     "text": [
      "best screenplay - motion picture\n",
      "best director - motion picture\n",
      "best performance by an actress in a television series - comedy or musical\n",
      "best foreign language film\n",
      "best performance by an actor in a supporting role in a motion picture\n",
      "best performance by an actress in a supporting role in a series, mini-series or motion picture made for television\n",
      "best motion picture - comedy or musical\n",
      "best performance by an actress in a motion picture - comedy or musical\n",
      "best mini-series or motion picture made for television\n",
      "best original score - motion picture\n",
      "best performance by an actress in a television series - drama\n",
      "best performance by an actress in a motion picture - drama\n",
      "cecil b. demille award\n",
      "best performance by an actor in a motion picture - comedy or musical\n",
      "best motion picture - drama\n",
      "best performance by an actor in a supporting role in a series, mini-series or motion picture made for television\n",
      "best performance by an actress in a supporting role in a motion picture\n",
      "best television series - drama\n",
      "best performance by an actor in a mini-series or motion picture made for television\n",
      "best performance by an actress in a mini-series or motion picture made for television\n",
      "best animated feature film\n",
      "best original song - motion picture\n",
      "best performance by an actor in a motion picture - drama\n",
      "best television series - comedy or musical\n",
      "best performance by an actor in a television series - drama\n",
      "best performance by an actor in a television series - comedy or musical\n"
     ]
    }
   ],
   "source": [
    "for key in ans['award_data']:\n",
    "    print(key)"
   ]
  },
  {
   "cell_type": "code",
   "execution_count": null,
   "metadata": {},
   "outputs": [],
   "source": []
  },
  {
   "cell_type": "code",
   "execution_count": 110,
   "metadata": {},
   "outputs": [],
   "source": [
    "awards_list = {}\n",
    "for tweet in clean_data:\n",
    "    if \"the\" in tweet and \"award\" in tweet:\n",
    "        #print(tweet)\n",
    "        collect = []\n",
    "        for word in list(reversed(tweet)):  \n",
    "            if word == \"award\":\n",
    "                collect.insert(0,word)\n",
    "            elif word == \"the\" and len(collect) > 0:\n",
    "                #print(collect_str)\n",
    "                collect_str = ' '.join(map(str, collect))\n",
    "                if len(collect) > 2 and len(collect) <= 4 and 'golden' not in collect_str:\n",
    "                    doc = nlp(collect_str)\n",
    "                    for ent in doc.ents:\n",
    "                        if ent.label_ == \"PERSON\":                    \n",
    "                            if collect_str not in awards_list:\n",
    "                                awards_list[collect_str] = 0\n",
    "                            awards_list[collect_str] += 1\n",
    "                            break\n",
    "                        else:\n",
    "                            break\n",
    "\n",
    "                collect = []\n",
    "            elif len(collect) > 0:\n",
    "                collect.insert(0,word)"
   ]
  },
  {
   "cell_type": "code",
   "execution_count": 90,
   "metadata": {},
   "outputs": [
    {
     "name": "stdout",
     "output_type": "stream",
     "text": [
      "{'brightest genius award': 1, 'carol burnett award': 109, 'cecille b demille award': 1, 'carroll burnett award': 2, 'prestigious carol burnett award': 1, 'chairman s award': 1, 'carol burnett show award': 1, 'green goddess award': 1, 'event carol burnett award': 1, 'galton an award': 1, 'honorary carol burnett award': 1, 'carol burnet award': 1, 'inaugural carol burnett award': 1, 'jussie smollett award': 1, 'director s guild award': 1, 'official kickoff to award': 1}\n"
     ]
    }
   ],
   "source": [
    "print(awards_list)"
   ]
  },
  {
   "cell_type": "code",
   "execution_count": null,
   "metadata": {},
   "outputs": [],
   "source": [
    "for tweet in clean_data:\n",
    "    tweetstr = ' '.join(map(str, tweet)) "
   ]
  },
  {
   "cell_type": "code",
   "execution_count": 24,
   "metadata": {},
   "outputs": [],
   "source": [
    "ans = json.load(open('gg2013answers.json'))"
   ]
  },
  {
   "cell_type": "code",
   "execution_count": null,
   "metadata": {},
   "outputs": [],
   "source": [
    "print"
   ]
  }
 ],
 "metadata": {
  "kernelspec": {
   "display_name": "Python (nlp-env)",
   "language": "python",
   "name": "nlp-env"
  },
  "language_info": {
   "codemirror_mode": {
    "name": "ipython",
    "version": 3
   },
   "file_extension": ".py",
   "mimetype": "text/x-python",
   "name": "python",
   "nbconvert_exporter": "python",
   "pygments_lexer": "ipython3",
   "version": "3.6.10"
  }
 },
 "nbformat": 4,
 "nbformat_minor": 2
}
