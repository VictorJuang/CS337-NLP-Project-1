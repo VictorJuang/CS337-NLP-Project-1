{
 "cells": [
  {
   "cell_type": "code",
   "execution_count": 1,
   "metadata": {},
   "outputs": [],
   "source": [
    "import json\n",
    "import nltk\n"
   ]
  },
  {
   "cell_type": "code",
   "execution_count": 4,
   "metadata": {},
   "outputs": [],
   "source": [
    "data = json.load(open('gg2013.json'))\n"
   ]
  },
  {
   "cell_type": "code",
   "execution_count": 5,
   "metadata": {},
   "outputs": [
    {
     "name": "stdout",
     "output_type": "stream",
     "text": [
      "{'text': \"JLo's dress! #eredcarpet #GoldenGlobes\", 'user': {'screen_name': 'Dozaaa_xo', 'id': 557374298}, 'id': 290620657987887104, 'timestamp_ms': 1358124338000}\n"
     ]
    }
   ],
   "source": [
    "print(data[0])"
   ]
  },
  {
   "cell_type": "code",
   "execution_count": 6,
   "metadata": {},
   "outputs": [],
   "source": [
    "import re\n",
    "import string\n",
    "from nltk.corpus import stopwords \n",
    "stop_words = set(stopwords.words('english')) "
   ]
  },
  {
   "cell_type": "code",
   "execution_count": 7,
   "metadata": {},
   "outputs": [
    {
     "name": "stdout",
     "output_type": "stream",
     "text": [
      "\u001b[33mDownloading emoji data ...\u001b[0m\n",
      "\u001b[92m... OK\u001b[0m (Got response in 0.22 seconds)\n",
      "\u001b[33mWriting emoji data to C:\\Users\\victo\\.demoji/codes.json ...\u001b[0m\n",
      "\u001b[92m... OK\u001b[0m\n"
     ]
    }
   ],
   "source": [
    "import demoji\n",
    "demoji.download_codes()"
   ]
  },
  {
   "cell_type": "code",
   "execution_count": 8,
   "metadata": {},
   "outputs": [],
   "source": [
    "clean_data = []\n",
    "count = 0\n",
    "for tweet in data:\n",
    "    tweet_text = tweet['text']\n",
    "    no_http = re.sub('http://\\S+|https://\\S+', '', tweet_text)\n",
    "    emoji_list = demoji.findall(no_http)\n",
    "    tweet_token = nltk.word_tokenize(no_http)\n",
    "    filtered_tweet = tweet_token\n",
    "    #filtered_tweet = [w for w in tweet_token if not w in stop_words] \n",
    "    filtered_tweet = [w for w in filtered_tweet if not w in emoji_list]\n",
    "    filtered_tweet = [w for w in filtered_tweet if not w in string.punctuation]\n",
    "    filtered_tweet = [w for w in filtered_tweet if w.isalnum()]\n",
    "    filtered_tweet = [w.lower() for w in filtered_tweet]\n",
    "    clean_data.append(filtered_tweet)"
   ]
  },
  {
   "cell_type": "code",
   "execution_count": 9,
   "metadata": {},
   "outputs": [],
   "source": [
    "import spacy"
   ]
  },
  {
   "cell_type": "code",
   "execution_count": 10,
   "metadata": {},
   "outputs": [
    {
     "name": "stdout",
     "output_type": "stream",
     "text": [
      "jlo dress eredcarpet goldenglobes\n",
      "jlo dress 0 9 PERSON\n"
     ]
    }
   ],
   "source": [
    "i = 0\n",
    "nlp = spacy.load(\"en_core_web_sm\")\n",
    "doc = nlp(' '.join(word for word in clean_data[i]))\n",
    "print(' '.join(word for word in clean_data[i]))\n",
    "for ent in doc.ents:\n",
    "    print(ent.text, ent.start_char, ent.end_char, ent.label_)"
   ]
  },
  {
   "cell_type": "code",
   "execution_count": 26,
   "metadata": {},
   "outputs": [],
   "source": [
    "# search host\n",
    "host_list = ['host', 'hosts', 'hosting', 'hosted']\n",
    "host_tweet = []\n",
    "for tweet in clean_data:\n",
    "    for test_word in host_list:\n",
    "        if test_word in tweet:\n",
    "            host_tweet.append(' '.join(word for word in tweet))\n",
    "            break"
   ]
  },
  {
   "cell_type": "code",
   "execution_count": 27,
   "metadata": {},
   "outputs": [],
   "source": [
    "name_list = []\n",
    "for tweet in set(host_tweet):\n",
    "    doc = nlp(tweet)\n",
    "    for ent in doc.ents:\n",
    "        if ent.label_ == \"PERSON\":\n",
    "            name_list.append(ent.text)"
   ]
  },
  {
   "cell_type": "code",
   "execution_count": 28,
   "metadata": {},
   "outputs": [],
   "source": [
    "unique_list = list(set(name_list))\n",
    "counter = []\n",
    "for item in unique_list:\n",
    "    counter.append(name_list.count(item))"
   ]
  },
  {
   "cell_type": "code",
   "execution_count": 29,
   "metadata": {},
   "outputs": [
    {
     "name": "stdout",
     "output_type": "stream",
     "text": [
      "[1, 1, 1, 1, 1, 1, 2, 1, 82, 1, 3, 6, 1, 2, 352, 1, 1, 1, 1, 1, 1, 1, 1, 1, 4, 1, 1, 1, 1, 1, 1, 2, 4, 5, 1, 1, 1, 2, 1, 6, 4, 1, 1, 1, 2, 1, 1, 2, 1, 1, 1, 1, 1, 2, 1, 1, 1, 1, 2, 1, 202, 7, 1, 1, 1, 1, 1, 1, 1, 19, 8, 1, 1, 11, 1, 5, 1, 1, 2, 1, 1, 10, 1, 1, 1, 2, 2, 1, 3, 1, 1, 1, 1, 1, 1, 1, 1, 5, 1, 1, 1, 7, 1, 1, 1, 3, 1, 1, 1, 1, 1, 1, 1, 1, 1, 1, 1, 1, 1, 1, 1, 1, 1, 1, 1, 3, 1, 1, 2, 1, 1, 1, 1, 5, 1, 1, 1, 1, 1, 1, 1, 2, 3, 1, 1, 5, 1, 1, 1, 1, 1, 1, 1, 1, 1, 2, 1, 1, 1, 1, 6, 1, 1, 1, 1, 1, 1, 1, 1, 1, 1, 1, 1, 1, 2, 1, 1, 1, 3, 1, 1, 1, 1, 1, 1, 6, 2, 1, 1, 1, 1, 1, 2, 1, 1, 1, 1, 1, 1, 3, 1, 1, 1, 1, 1, 1, 1, 1, 2, 1, 6, 1, 1, 1, 1, 1, 2, 1, 7, 1, 1, 1, 1, 1, 1, 1, 93, 1, 3, 1, 1, 1, 1, 1, 1, 1, 1, 1, 1, 1, 1, 1, 1, 21, 1, 1, 1, 1, 1, 1, 1, 1, 3, 1, 1, 1, 2, 1, 1, 1, 1, 1, 1, 1, 3, 1, 1, 1, 1, 1, 1, 1, 5, 1, 1, 1, 1, 2, 7, 1, 1, 1, 1, 3, 1, 1, 7, 1, 1, 1, 3, 1, 1, 1, 1, 1, 1, 66, 1, 1, 1, 1, 1, 1, 1, 1, 1, 1, 1, 5, 1, 1, 13, 1, 2, 1, 1, 1, 1, 1, 1, 1, 1, 1, 3, 1, 1, 1, 2, 1, 1, 1, 1, 1, 1, 3, 1, 2, 1, 4, 1, 1, 1, 1, 1, 1]\n"
     ]
    }
   ],
   "source": [
    "print(counter)"
   ]
  },
  {
   "cell_type": "code",
   "execution_count": 30,
   "metadata": {},
   "outputs": [
    {
     "name": "stdout",
     "output_type": "stream",
     "text": [
      "amy poehler\n"
     ]
    }
   ],
   "source": [
    "name = unique_list[counter.index(max(counter))]\n",
    "print(name)"
   ]
  },
  {
   "cell_type": "code",
   "execution_count": 33,
   "metadata": {},
   "outputs": [
    {
     "name": "stdout",
     "output_type": "stream",
     "text": [
      "tina fey\n"
     ]
    }
   ],
   "source": [
    "name = unique_list[counter.index(93)]\n",
    "print(name)"
   ]
  },
  {
   "cell_type": "code",
   "execution_count": 39,
   "metadata": {},
   "outputs": [
    {
     "name": "stdout",
     "output_type": "stream",
     "text": [
      "323\n"
     ]
    }
   ],
   "source": [
    "count = 0\n",
    "for tweet in set(host_tweet):\n",
    "    if \"tina fey and amy poehler\" in tweet or \"amy poehler and tina fey\" in tweet:\n",
    "        #print(tweet)\n",
    "        count += 1\n",
    "print(count)"
   ]
  },
  {
   "cell_type": "code",
   "execution_count": 41,
   "metadata": {},
   "outputs": [
    {
     "name": "stdout",
     "output_type": "stream",
     "text": [
      "knew amy\n",
      "sammyywammyy tina\n",
      "rt angelato3\n",
      "neil patrick harris goldenglobes\n",
      "rt henderstu\n",
      "photo amy poehler\n",
      "tina poehler\n",
      "rt tallcathy\n",
      "kristen wiig\n",
      "goldenglobes so happy\n",
      "nancyleegrahn tina\n",
      "cohen\n",
      "yesnofilms yup\n",
      "killerintro goldenglobes\n",
      "amy poehler\n",
      "golden globes yay amy\n",
      "goldenglobes agirlcandream\n",
      "goldenglobes poehler\n",
      "robert downey jr\n",
      "lynnepatton haha\n",
      "kristen bell\n",
      "goldenglobes folks\n",
      "james franco stillfunny\n",
      "w amy\n",
      "amy amp\n",
      "glad amy\n",
      "ben affleck\n",
      "xd snl goldenglobes saintparis\n",
      "falla categórica\n",
      "goldenglobes peopleschoice\n",
      "lulz goldenglobes\n",
      "sarah palin\n",
      "loving tina\n",
      "kristin\n",
      "rt goteamt\n",
      "rt lesleybirchard\n",
      "kiersten wig amp\n",
      "taylor swift\n",
      "golden globes 2013\n",
      "ricky gervais\n",
      "glenn\n",
      "tempos goldenglobes\n",
      "si robertson\n",
      "gon na\n",
      "amy tina\n",
      "al roker\n",
      "matt lauer\n",
      "seth macfarlane\n",
      "amp amy poehler\n",
      "rt xoamelia\n",
      "kmargo777\n",
      "melindajane tina\n",
      "oprah winfrey\n",
      "lol loving tina\n",
      "rt ayeletme amy and\n",
      "golden globes kick\n",
      "drewseeley amy\n",
      "rt laurenbrumley\n",
      "amy poelher\n",
      "ron riggle\n",
      "amy\n",
      "amy amp tina\n",
      "queen tina\n",
      "rt jayhandelman\n",
      "tina amy kristin\n",
      "goldenglobes kinda\n",
      "bien dicho por\n",
      "rt omginsider\n",
      "el vestuario de anne goldenglobes\n",
      "amy pohler\n",
      "tina amp amy\n",
      "queen amy\n",
      "norberry\n",
      "paul rudd\n",
      "y amy poehler los\n",
      "james cameron\n",
      "hire amy poehler\n",
      "rt ciaomichaella\n",
      "lisarinna snl peeps\n",
      "lol rt krusso14\n",
      "rt kumailn\n",
      "kristin wiig\n",
      "rt msreesexo\n",
      "reveverett hillary clinton\n",
      "amy poller\n",
      "tomatos\n",
      "wilson fat amy\n",
      "lol rt tvmojoe\n",
      "amy poehler goldenglobes\n",
      "buzzsugar amy\n",
      "goldenglobes bahaha\n",
      "tim\n",
      "goldenglobes gotitright\n",
      "goldenglobes kristen wiig\n",
      "lol love\n",
      "rt alexspeaksup\n",
      "jarettsays tina\n",
      "kristen wig\n",
      "rt amy\n",
      "amy teambrookeandjulia\n",
      "kristen wiig amp\n",
      "jodie foster\n",
      "rt johnnyberch77\n",
      "kamariatalley tina\n",
      "rt ninatypewriter\n",
      "michael j fox\n",
      "izzyinthehizzie tina\n",
      "rt vulture\n",
      "scott\n",
      "rt shainarc\n",
      "amp fredleighton\n",
      "this yr\n",
      "jonathanwald ferrell\n",
      "saoberski\n",
      "jlaw winning hathaway\n",
      "great job amy\n",
      "cohen host\n",
      "ferrell goldenglobes\n",
      "mattissuperman amy poehler\n",
      "rt hollyvalentine so stoked\n",
      "rt loxyisme\n",
      "comedienne\n",
      "rt rubyjnkie\n",
      "reneebargh amy poehler\n",
      "goldenglobes tahun ini tina\n",
      "george clooney\n",
      "qt screenplay\n",
      "kellidaisy\n",
      "amy polar\n",
      "tina amy greatest hosts\n",
      "ni han salido\n",
      "jawnmurray amy poehler\n",
      "regina george mom goldenglobes\n",
      "robert downey\n",
      "davebautista\n",
      "rt kirstinbenson\n",
      "god amypoehler\n",
      "amy phoehler\n",
      "could amy amp tina\n",
      "bill rodham clinton\n",
      "killerintro funny\n",
      "neil patrick harris\n",
      "goldenglobes glush\n",
      "everrr goldenglobes\n",
      "lol\n",
      "amy poeler\n",
      "rt lmruzo\n",
      "oof amy poehler\n",
      "tina amy poehler\n",
      "mis heroinas de host\n",
      "goldenglobes liking\n",
      "trevorboris adele\n",
      "amy host\n",
      "amypoehler amp\n",
      "pfvr perezhilton\n",
      "james franco goldenglobes\n",
      "adam corolla\n",
      "jimmy fallon goldenglobes\n",
      "yeap\n",
      "perez perezhilton\n",
      "tina amp\n",
      "goldenglobes hahah\n",
      "onlyy a few minutes\n",
      "shazam tina\n",
      "vfagenda kristen wiig amp\n",
      "openingnya nyinyir bangeeet\n",
      "goldenglobes billclinton lincoln\n",
      "karanydg\n",
      "hfpa goldenglobes\n",
      "mah girls tina\n",
      "tina faye\n",
      "rt brookeandjulia1\n",
      "rt kellianndecarlo\n",
      "les mis\n",
      "goldenglobes lt 3thebiz\n",
      "thekimma tina\n",
      "michele tina\n",
      "marcusrfrancis kristin\n",
      "golden globes\n",
      "goldenglobes smrtgrls\n",
      "maggie smi\n",
      "buckleyjason tina\n",
      "rt lizzzuy\n",
      "ferrell amy poehler\n",
      "anne you won\n",
      "jay leno\n",
      "yo\n",
      "rt jonathanwald ferrell\n",
      "bang\n",
      "johnnyboy5343 amy\n",
      "que tina\n",
      "amp bruce battle\n",
      "claire danes\n",
      "kristen wigg amp\n",
      "amy poehlr\n",
      "caseyturner tina\n",
      "lo\n",
      "filmbuffet\n",
      "rt glemaud\n",
      "tina amy\n",
      "jimoheir lorne\n",
      "rt lorimoreno\n",
      "quentin tarantino\n",
      "adele bill clinton\n",
      "hillary clinton\n",
      "aziz\n",
      "robert downey intro\n",
      "nightmade goldenglobes\n",
      "arnold\n",
      "kate\n",
      "amy goldenglobes\n",
      "amy poleher\n",
      "rt jonathanwald\n",
      "adrianoelias amy poehler\n",
      "tina fey amy poehler\n",
      "eastwoodmcfly ferrell\n",
      "god\n",
      "marry amy poehler\n",
      "anne hathaway\n",
      "naturallysteph vote\n",
      "helena bonham carter\n",
      "lincoln amy\n",
      "rt jawnmurray\n",
      "kevin dior\n",
      "les miles\n",
      "jodie foster goldenglobes\n",
      "tina fey\n",
      "didibenami yay\n",
      "ed harris\n",
      "rt legallatino\n",
      "jack\n",
      "arrreema amy poehler\n",
      "rt glennsumi\n",
      "kathygriffin\n",
      "arndtyoucute perezhilton\n",
      "goldenglobes goldenglobe2013\n",
      "shaka laka\n",
      "great globes amy\n",
      "masih karena\n",
      "nbcsnl more amy\n",
      "goldenglobes uve\n",
      "kristin amp\n",
      "lol nice\n",
      "goldenglobes\n",
      "amy poheler\n",
      "rt lauinla amy poehler\n",
      "goldenglobes goldenglobes2013\n",
      "alfonsoespina\n",
      "angegeee loving tina\n",
      "jihadkitty tina\n",
      "rt tvguidecanada\n",
      "ricky gervais goldenglobes\n",
      "maggie smith\n",
      "rt hollywoodstar95\n",
      "matt pinfield\n",
      "ryan seacrest\n",
      "mel gibson\n",
      "kreebeau tina\n",
      "goldenglobes tina faye\n",
      "adele daniel craig\n",
      "hilmonstah\n",
      "kevin costner\n",
      "rebeccamakonnen\n",
      "livewire golden globes\n",
      "george clooney lap\n",
      "goldenglobes2013\n",
      "ascpr\n",
      "yahooomg\n",
      "julia roberts\n",
      "los de los golden\n",
      "murraymaker\n",
      "bellamarci love\n",
      "piersmorgan great goldenglobes\n",
      "rt dbashideas\n",
      "kaley\n",
      "dalia macphee\n",
      "thx zoebfox\n",
      "mtv golden globes\n",
      "amp amy\n",
      "weird jennifer lawrence\n",
      "clooney lap\n",
      "rt jayec622\n",
      "stacmck taylor swift\n",
      "can amy\n",
      "goldenglobes amypoehler\n",
      "sgs 2013\n",
      "jennifer lawrence\n",
      "kristen wigg\n",
      "liz\n",
      "rt zacsteele\n",
      "jimmy fallon\n",
      "lena dunham\n",
      "todayshow tina\n",
      "snl goldenglobe\n",
      "outsmartedmommy tina\n",
      "soooo tina\n",
      "martin short\n",
      "tina\n",
      "reaganward laurenl\n",
      "antderosa tina\n",
      "amy fey\n",
      "piersmorgan\n",
      "shockuhdelica\n",
      "celestaaaay amy\n",
      "clinton\n",
      "judyblume tina\n",
      "kevinrfree\n",
      "tina himynamesam\n",
      "tina amy kristen\n",
      "bill clinton\n",
      "bateman\n",
      "lol goldenglobes\n",
      "kristen wiig goldenglobes\n",
      "azizansari\n",
      "golden globes kevin costner\n",
      "thealexhughes lindsaylohan\n",
      "y amy\n",
      "les miserables\n",
      "sang castle\n",
      "piersmorgan goldenglobes\n",
      "rt tinselkorey\n",
      "killingit goldenglobes\n",
      "goldenglobes aziz ansari\n",
      "rt heyholcomb\n",
      "james franco\n",
      "daniel day lewis\n",
      "booooooo\n",
      "tommy lee jones\n",
      "macfarlane gig\n",
      "luvvie yesss\n",
      "yahootv jimmy\n",
      "jodie foster lt 3\n",
      "ladies killin\n",
      "hmelmel gorgeous\n",
      "goldenglobes rickygervais\n",
      "goldenglobes tina\n",
      "phil robertson\n",
      "ryan\n",
      "goldenglobes great show tina\n",
      "adele\n",
      "rt jenakingsley\n",
      "rockabillyjay sofia vergara\n",
      "rt keckberg\n",
      "golden globes tina\n",
      "rt kenzieburnsie\n",
      "snl lorne\n"
     ]
    }
   ],
   "source": [
    "for name in unique_list:\n",
    "    print(name)"
   ]
  },
  {
   "cell_type": "code",
   "execution_count": null,
   "metadata": {},
   "outputs": [],
   "source": []
  }
 ],
 "metadata": {
  "kernelspec": {
   "display_name": "Python 3",
   "language": "python",
   "name": "python3"
  },
  "language_info": {
   "codemirror_mode": {
    "name": "ipython",
    "version": 3
   },
   "file_extension": ".py",
   "mimetype": "text/x-python",
   "name": "python",
   "nbconvert_exporter": "python",
   "pygments_lexer": "ipython3",
   "version": "3.7.3"
  }
 },
 "nbformat": 4,
 "nbformat_minor": 4
}
